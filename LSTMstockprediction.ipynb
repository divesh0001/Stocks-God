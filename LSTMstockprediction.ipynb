{
  "cells": [
    {
      "cell_type": "markdown",
      "metadata": {
        "id": "fzQyV5b0af9S"
      },
      "source": [
        "### Stock Market Prediction And Forecasting Using Stacked LSTM"
      ]
    },
    {
      "cell_type": "code",
      "execution_count": 1,
      "metadata": {
        "id": "PN-xlSiqaf9V"
      },
      "outputs": [],
      "source": [
        "### Keras and Tensorflow >2.0"
      ]
    },
    {
      "cell_type": "code",
      "execution_count": 2,
      "metadata": {
        "id": "s2M1fj00af9a"
      },
      "outputs": [],
      "source": [
        "### Data Collection\n",
        "import pandas_datareader as pdr\n",
        "key=\"dcbdde936e7866b9ae45c380c36a2f04c62bcc90\""
      ]
    },
    {
      "cell_type": "code",
      "execution_count": 3,
      "metadata": {
        "colab": {
          "base_uri": "https://localhost:8080/"
        },
        "id": "zS8o5ggvbZPE",
        "outputId": "37c580cf-f7e3-4dbf-9d07-a6d48efe29df"
      },
      "outputs": [
        {
          "name": "stdout",
          "output_type": "stream",
          "text": [
            "Requirement already satisfied: pandas_datareader in /usr/local/lib/python3.11/dist-packages (0.10.0)\n",
            "Requirement already satisfied: lxml in /usr/local/lib/python3.11/dist-packages (from pandas_datareader) (5.3.1)\n",
            "Requirement already satisfied: pandas>=0.23 in /usr/local/lib/python3.11/dist-packages (from pandas_datareader) (2.2.2)\n",
            "Requirement already satisfied: requests>=2.19.0 in /usr/local/lib/python3.11/dist-packages (from pandas_datareader) (2.32.3)\n",
            "Requirement already satisfied: numpy>=1.23.2 in /usr/local/lib/python3.11/dist-packages (from pandas>=0.23->pandas_datareader) (1.26.4)\n",
            "Requirement already satisfied: python-dateutil>=2.8.2 in /usr/local/lib/python3.11/dist-packages (from pandas>=0.23->pandas_datareader) (2.8.2)\n",
            "Requirement already satisfied: pytz>=2020.1 in /usr/local/lib/python3.11/dist-packages (from pandas>=0.23->pandas_datareader) (2025.1)\n",
            "Requirement already satisfied: tzdata>=2022.7 in /usr/local/lib/python3.11/dist-packages (from pandas>=0.23->pandas_datareader) (2025.1)\n",
            "Requirement already satisfied: charset-normalizer<4,>=2 in /usr/local/lib/python3.11/dist-packages (from requests>=2.19.0->pandas_datareader) (3.4.1)\n",
            "Requirement already satisfied: idna<4,>=2.5 in /usr/local/lib/python3.11/dist-packages (from requests>=2.19.0->pandas_datareader) (3.10)\n",
            "Requirement already satisfied: urllib3<3,>=1.21.1 in /usr/local/lib/python3.11/dist-packages (from requests>=2.19.0->pandas_datareader) (2.3.0)\n",
            "Requirement already satisfied: certifi>=2017.4.17 in /usr/local/lib/python3.11/dist-packages (from requests>=2.19.0->pandas_datareader) (2025.1.31)\n",
            "Requirement already satisfied: six>=1.5 in /usr/local/lib/python3.11/dist-packages (from python-dateutil>=2.8.2->pandas>=0.23->pandas_datareader) (1.17.0)\n"
          ]
        }
      ],
      "source": [
        "!pip install --upgrade pandas_datareader\n"
      ]
    },
    {
      "cell_type": "code",
      "execution_count": 26,
      "metadata": {
        "colab": {
          "base_uri": "https://localhost:8080/"
        },
        "id": "uHfbzSqMaf9b",
        "outputId": "e2c7184b-6ea9-4b61-e5a6-b0ef6f60072f"
      },
      "outputs": [
        {
          "name": "stdout",
          "output_type": "stream",
          "text": [
            "                       date   close      high      low    open     volume  \\\n",
            "0 2021-01-04 00:00:00+00:00  129.41  133.6116  126.760  133.52  143301887   \n",
            "1 2021-01-05 00:00:00+00:00  131.01  131.7400  128.430  128.89   97664898   \n",
            "2 2021-01-06 00:00:00+00:00  126.60  131.0499  126.382  127.72  155087970   \n",
            "3 2021-01-07 00:00:00+00:00  130.92  131.6300  127.860  128.36  109578157   \n",
            "4 2021-01-08 00:00:00+00:00  132.05  132.6300  130.230  132.43  105158245   \n",
            "\n",
            "     adjClose     adjHigh      adjLow     adjOpen  adjVolume  divCash  \\\n",
            "0  126.409347  130.513524  123.820793  130.424048  143301887      0.0   \n",
            "1  127.972247  128.685321  125.452070  125.901404   97664898      0.0   \n",
            "2  123.664503  128.011222  123.451558  124.758533  155087970      0.0   \n",
            "3  127.884334  128.577871  124.895287  125.383694  109578157      0.0   \n",
            "4  128.988133  129.554684  127.210333  129.359322  105158245      0.0   \n",
            "\n",
            "   splitFactor  \n",
            "0          1.0  \n",
            "1          1.0  \n",
            "2          1.0  \n",
            "3          1.0  \n",
            "4          1.0  \n"
          ]
        }
      ],
      "source": [
        "import requests\n",
        "import pandas as pd\n",
        "\n",
        "api_key = \"dcbdde936e7866b9ae45c380c36a2f04c62bcc90\"\n",
        "symbol = \"AAPL\"\n",
        "\n",
        "# Set date range\n",
        "start_date = \"2021-01-01\"\n",
        "end_date = \"2025-02-21\"\n",
        "\n",
        "url = f\"https://api.tiingo.com/tiingo/daily/{symbol}/prices?startDate={start_date}&endDate={end_date}&token={api_key}\"\n",
        "\n",
        "response = requests.get(url)\n",
        "data = response.json()\n",
        "\n",
        "# Convert to DataFrame\n",
        "df = pd.DataFrame(data)\n",
        "\n",
        "# Convert 'date' to datetime format for better analysis\n",
        "df[\"date\"] = pd.to_datetime(df[\"date\"])\n",
        "\n",
        "print(df.head())  # Check first 5 rows\n"
      ]
    },
    {
      "cell_type": "code",
      "execution_count": 27,
      "metadata": {
        "id": "rm2BP_ataf9c"
      },
      "outputs": [],
      "source": [
        "df.to_csv('AAPL.csv')"
      ]
    },
    {
      "cell_type": "code",
      "execution_count": 28,
      "metadata": {
        "id": "xO-bkdqzaf9c"
      },
      "outputs": [],
      "source": [
        "import pandas as pd"
      ]
    },
    {
      "cell_type": "code",
      "execution_count": 29,
      "metadata": {
        "id": "7YDejOZnaf9d"
      },
      "outputs": [],
      "source": [
        "df=pd.read_csv('AAPL.csv')"
      ]
    },
    {
      "cell_type": "code",
      "execution_count": 30,
      "metadata": {
        "colab": {
          "base_uri": "https://localhost:8080/",
          "height": 330
        },
        "id": "TjiVOksZaf9d",
        "outputId": "c45deeef-9244-462d-c9a3-f9db19d16c12"
      },
      "outputs": [
        {
          "data": {
            "application/vnd.google.colaboratory.intrinsic+json": {
              "summary": "{\n  \"name\": \"df\",\n  \"rows\": 1039,\n  \"fields\": [\n    {\n      \"column\": \"Unnamed: 0\",\n      \"properties\": {\n        \"dtype\": \"number\",\n        \"std\": 300,\n        \"min\": 0,\n        \"max\": 1038,\n        \"num_unique_values\": 1039,\n        \"samples\": [\n          310,\n          809,\n          309\n        ],\n        \"semantic_type\": \"\",\n        \"description\": \"\"\n      }\n    },\n    {\n      \"column\": \"date\",\n      \"properties\": {\n        \"dtype\": \"object\",\n        \"num_unique_values\": 1039,\n        \"samples\": [\n          \"2022-03-28 00:00:00+00:00\",\n          \"2024-03-22 00:00:00+00:00\",\n          \"2022-03-25 00:00:00+00:00\"\n        ],\n        \"semantic_type\": \"\",\n        \"description\": \"\"\n      }\n    },\n    {\n      \"column\": \"close\",\n      \"properties\": {\n        \"dtype\": \"number\",\n        \"std\": 32.57842896255936,\n        \"min\": 116.36,\n        \"max\": 259.02,\n        \"num_unique_values\": 980,\n        \"samples\": [\n          183.05,\n          150.65,\n          145.86\n        ],\n        \"semantic_type\": \"\",\n        \"description\": \"\"\n      }\n    },\n    {\n      \"column\": \"high\",\n      \"properties\": {\n        \"dtype\": \"number\",\n        \"std\": 32.6635902082999,\n        \"min\": 120.4031,\n        \"max\": 260.1,\n        \"num_unique_values\": 999,\n        \"samples\": [\n          150.01,\n          167.26,\n          152.2\n        ],\n        \"semantic_type\": \"\",\n        \"description\": \"\"\n      }\n    },\n    {\n      \"column\": \"low\",\n      \"properties\": {\n        \"dtype\": \"number\",\n        \"std\": 32.379124004932535,\n        \"min\": 116.21,\n        \"max\": 257.63,\n        \"num_unique_values\": 1007,\n        \"samples\": [\n          227.76,\n          181.92,\n          171.45\n        ],\n        \"semantic_type\": \"\",\n        \"description\": \"\"\n      }\n    },\n    {\n      \"column\": \"open\",\n      \"properties\": {\n        \"dtype\": \"number\",\n        \"std\": 32.497798016435844,\n        \"min\": 119.03,\n        \"max\": 258.19,\n        \"num_unique_values\": 989,\n        \"samples\": [\n          149.94,\n          155.52,\n          148.9\n        ],\n        \"semantic_type\": \"\",\n        \"description\": \"\"\n      }\n    },\n    {\n      \"column\": \"volume\",\n      \"properties\": {\n        \"dtype\": \"number\",\n        \"std\": 30076734,\n        \"min\": 23234705,\n        \"max\": 318679888,\n        \"num_unique_values\": 1039,\n        \"samples\": [\n          90371916,\n          71160138,\n          80281664\n        ],\n        \"semantic_type\": \"\",\n        \"description\": \"\"\n      }\n    },\n    {\n      \"column\": \"adjClose\",\n      \"properties\": {\n        \"dtype\": \"number\",\n        \"std\": 33.271608086201425,\n        \"min\": 113.8323162264,\n        \"max\": 258.7358622203,\n        \"num_unique_values\": 1026,\n        \"samples\": [\n          148.7943903059,\n          145.2491296863,\n          160.1577779281\n        ],\n        \"semantic_type\": \"\",\n        \"description\": \"\"\n      }\n    },\n    {\n      \"column\": \"adjHigh\",\n      \"properties\": {\n        \"dtype\": \"number\",\n        \"std\": 33.364874451784615,\n        \"min\": 117.7875881217,\n        \"max\": 259.8146774901,\n        \"num_unique_values\": 1030,\n        \"samples\": [\n          127.8705917322,\n          127.978846828,\n          145.7329230391\n        ],\n        \"semantic_type\": \"\",\n        \"description\": \"\"\n      }\n    },\n    {\n      \"column\": \"adjLow\",\n      \"properties\": {\n        \"dtype\": \"number\",\n        \"std\": 33.06391058381691,\n        \"min\": 113.6855746706,\n        \"max\": 257.3473870118,\n        \"num_unique_values\": 1034,\n        \"samples\": [\n          156.8732431514,\n          147.4028661941,\n          191.2596647218\n        ],\n        \"semantic_type\": \"\",\n        \"description\": \"\"\n      }\n    },\n    {\n      \"column\": \"adjOpen\",\n      \"properties\": {\n        \"dtype\": \"number\",\n        \"std\": 33.189969884617945,\n        \"min\": 116.4443159198,\n        \"max\": 257.9067727073,\n        \"num_unique_values\": 1027,\n        \"samples\": [\n          150.3832937243,\n          145.6451466714,\n          150.3715079458\n        ],\n        \"semantic_type\": \"\",\n        \"description\": \"\"\n      }\n    },\n    {\n      \"column\": \"adjVolume\",\n      \"properties\": {\n        \"dtype\": \"number\",\n        \"std\": 30076734,\n        \"min\": 23234705,\n        \"max\": 318679888,\n        \"num_unique_values\": 1039,\n        \"samples\": [\n          90371916,\n          71160138,\n          80281664\n        ],\n        \"semantic_type\": \"\",\n        \"description\": \"\"\n      }\n    },\n    {\n      \"column\": \"divCash\",\n      \"properties\": {\n        \"dtype\": \"number\",\n        \"std\": 0.029649427050551624,\n        \"min\": 0.0,\n        \"max\": 0.25,\n        \"num_unique_values\": 6,\n        \"samples\": [\n          0.0,\n          0.205,\n          0.25\n        ],\n        \"semantic_type\": \"\",\n        \"description\": \"\"\n      }\n    },\n    {\n      \"column\": \"splitFactor\",\n      \"properties\": {\n        \"dtype\": \"number\",\n        \"std\": 0.0,\n        \"min\": 1.0,\n        \"max\": 1.0,\n        \"num_unique_values\": 1,\n        \"samples\": [\n          1.0\n        ],\n        \"semantic_type\": \"\",\n        \"description\": \"\"\n      }\n    }\n  ]\n}",
              "type": "dataframe",
              "variable_name": "df"
            },
            "text/html": [
              "\n",
              "  <div id=\"df-f2791fdb-da5d-4015-8951-085dcb67dcbb\" class=\"colab-df-container\">\n",
              "    <div>\n",
              "<style scoped>\n",
              "    .dataframe tbody tr th:only-of-type {\n",
              "        vertical-align: middle;\n",
              "    }\n",
              "\n",
              "    .dataframe tbody tr th {\n",
              "        vertical-align: top;\n",
              "    }\n",
              "\n",
              "    .dataframe thead th {\n",
              "        text-align: right;\n",
              "    }\n",
              "</style>\n",
              "<table border=\"1\" class=\"dataframe\">\n",
              "  <thead>\n",
              "    <tr style=\"text-align: right;\">\n",
              "      <th></th>\n",
              "      <th>Unnamed: 0</th>\n",
              "      <th>date</th>\n",
              "      <th>close</th>\n",
              "      <th>high</th>\n",
              "      <th>low</th>\n",
              "      <th>open</th>\n",
              "      <th>volume</th>\n",
              "      <th>adjClose</th>\n",
              "      <th>adjHigh</th>\n",
              "      <th>adjLow</th>\n",
              "      <th>adjOpen</th>\n",
              "      <th>adjVolume</th>\n",
              "      <th>divCash</th>\n",
              "      <th>splitFactor</th>\n",
              "    </tr>\n",
              "  </thead>\n",
              "  <tbody>\n",
              "    <tr>\n",
              "      <th>0</th>\n",
              "      <td>0</td>\n",
              "      <td>2021-01-04 00:00:00+00:00</td>\n",
              "      <td>129.41</td>\n",
              "      <td>133.6116</td>\n",
              "      <td>126.760</td>\n",
              "      <td>133.52</td>\n",
              "      <td>143301887</td>\n",
              "      <td>126.409347</td>\n",
              "      <td>130.513524</td>\n",
              "      <td>123.820793</td>\n",
              "      <td>130.424048</td>\n",
              "      <td>143301887</td>\n",
              "      <td>0.0</td>\n",
              "      <td>1.0</td>\n",
              "    </tr>\n",
              "    <tr>\n",
              "      <th>1</th>\n",
              "      <td>1</td>\n",
              "      <td>2021-01-05 00:00:00+00:00</td>\n",
              "      <td>131.01</td>\n",
              "      <td>131.7400</td>\n",
              "      <td>128.430</td>\n",
              "      <td>128.89</td>\n",
              "      <td>97664898</td>\n",
              "      <td>127.972247</td>\n",
              "      <td>128.685321</td>\n",
              "      <td>125.452070</td>\n",
              "      <td>125.901404</td>\n",
              "      <td>97664898</td>\n",
              "      <td>0.0</td>\n",
              "      <td>1.0</td>\n",
              "    </tr>\n",
              "    <tr>\n",
              "      <th>2</th>\n",
              "      <td>2</td>\n",
              "      <td>2021-01-06 00:00:00+00:00</td>\n",
              "      <td>126.60</td>\n",
              "      <td>131.0499</td>\n",
              "      <td>126.382</td>\n",
              "      <td>127.72</td>\n",
              "      <td>155087970</td>\n",
              "      <td>123.664503</td>\n",
              "      <td>128.011222</td>\n",
              "      <td>123.451558</td>\n",
              "      <td>124.758533</td>\n",
              "      <td>155087970</td>\n",
              "      <td>0.0</td>\n",
              "      <td>1.0</td>\n",
              "    </tr>\n",
              "    <tr>\n",
              "      <th>3</th>\n",
              "      <td>3</td>\n",
              "      <td>2021-01-07 00:00:00+00:00</td>\n",
              "      <td>130.92</td>\n",
              "      <td>131.6300</td>\n",
              "      <td>127.860</td>\n",
              "      <td>128.36</td>\n",
              "      <td>109578157</td>\n",
              "      <td>127.884334</td>\n",
              "      <td>128.577871</td>\n",
              "      <td>124.895287</td>\n",
              "      <td>125.383694</td>\n",
              "      <td>109578157</td>\n",
              "      <td>0.0</td>\n",
              "      <td>1.0</td>\n",
              "    </tr>\n",
              "    <tr>\n",
              "      <th>4</th>\n",
              "      <td>4</td>\n",
              "      <td>2021-01-08 00:00:00+00:00</td>\n",
              "      <td>132.05</td>\n",
              "      <td>132.6300</td>\n",
              "      <td>130.230</td>\n",
              "      <td>132.43</td>\n",
              "      <td>105158245</td>\n",
              "      <td>128.988133</td>\n",
              "      <td>129.554684</td>\n",
              "      <td>127.210333</td>\n",
              "      <td>129.359322</td>\n",
              "      <td>105158245</td>\n",
              "      <td>0.0</td>\n",
              "      <td>1.0</td>\n",
              "    </tr>\n",
              "  </tbody>\n",
              "</table>\n",
              "</div>\n",
              "    <div class=\"colab-df-buttons\">\n",
              "\n",
              "  <div class=\"colab-df-container\">\n",
              "    <button class=\"colab-df-convert\" onclick=\"convertToInteractive('df-f2791fdb-da5d-4015-8951-085dcb67dcbb')\"\n",
              "            title=\"Convert this dataframe to an interactive table.\"\n",
              "            style=\"display:none;\">\n",
              "\n",
              "  <svg xmlns=\"http://www.w3.org/2000/svg\" height=\"24px\" viewBox=\"0 -960 960 960\">\n",
              "    <path d=\"M120-120v-720h720v720H120Zm60-500h600v-160H180v160Zm220 220h160v-160H400v160Zm0 220h160v-160H400v160ZM180-400h160v-160H180v160Zm440 0h160v-160H620v160ZM180-180h160v-160H180v160Zm440 0h160v-160H620v160Z\"/>\n",
              "  </svg>\n",
              "    </button>\n",
              "\n",
              "  <style>\n",
              "    .colab-df-container {\n",
              "      display:flex;\n",
              "      gap: 12px;\n",
              "    }\n",
              "\n",
              "    .colab-df-convert {\n",
              "      background-color: #E8F0FE;\n",
              "      border: none;\n",
              "      border-radius: 50%;\n",
              "      cursor: pointer;\n",
              "      display: none;\n",
              "      fill: #1967D2;\n",
              "      height: 32px;\n",
              "      padding: 0 0 0 0;\n",
              "      width: 32px;\n",
              "    }\n",
              "\n",
              "    .colab-df-convert:hover {\n",
              "      background-color: #E2EBFA;\n",
              "      box-shadow: 0px 1px 2px rgba(60, 64, 67, 0.3), 0px 1px 3px 1px rgba(60, 64, 67, 0.15);\n",
              "      fill: #174EA6;\n",
              "    }\n",
              "\n",
              "    .colab-df-buttons div {\n",
              "      margin-bottom: 4px;\n",
              "    }\n",
              "\n",
              "    [theme=dark] .colab-df-convert {\n",
              "      background-color: #3B4455;\n",
              "      fill: #D2E3FC;\n",
              "    }\n",
              "\n",
              "    [theme=dark] .colab-df-convert:hover {\n",
              "      background-color: #434B5C;\n",
              "      box-shadow: 0px 1px 3px 1px rgba(0, 0, 0, 0.15);\n",
              "      filter: drop-shadow(0px 1px 2px rgba(0, 0, 0, 0.3));\n",
              "      fill: #FFFFFF;\n",
              "    }\n",
              "  </style>\n",
              "\n",
              "    <script>\n",
              "      const buttonEl =\n",
              "        document.querySelector('#df-f2791fdb-da5d-4015-8951-085dcb67dcbb button.colab-df-convert');\n",
              "      buttonEl.style.display =\n",
              "        google.colab.kernel.accessAllowed ? 'block' : 'none';\n",
              "\n",
              "      async function convertToInteractive(key) {\n",
              "        const element = document.querySelector('#df-f2791fdb-da5d-4015-8951-085dcb67dcbb');\n",
              "        const dataTable =\n",
              "          await google.colab.kernel.invokeFunction('convertToInteractive',\n",
              "                                                    [key], {});\n",
              "        if (!dataTable) return;\n",
              "\n",
              "        const docLinkHtml = 'Like what you see? Visit the ' +\n",
              "          '<a target=\"_blank\" href=https://colab.research.google.com/notebooks/data_table.ipynb>data table notebook</a>'\n",
              "          + ' to learn more about interactive tables.';\n",
              "        element.innerHTML = '';\n",
              "        dataTable['output_type'] = 'display_data';\n",
              "        await google.colab.output.renderOutput(dataTable, element);\n",
              "        const docLink = document.createElement('div');\n",
              "        docLink.innerHTML = docLinkHtml;\n",
              "        element.appendChild(docLink);\n",
              "      }\n",
              "    </script>\n",
              "  </div>\n",
              "\n",
              "\n",
              "<div id=\"df-a1ec9847-1126-4d68-8dff-e565cc001497\">\n",
              "  <button class=\"colab-df-quickchart\" onclick=\"quickchart('df-a1ec9847-1126-4d68-8dff-e565cc001497')\"\n",
              "            title=\"Suggest charts\"\n",
              "            style=\"display:none;\">\n",
              "\n",
              "<svg xmlns=\"http://www.w3.org/2000/svg\" height=\"24px\"viewBox=\"0 0 24 24\"\n",
              "     width=\"24px\">\n",
              "    <g>\n",
              "        <path d=\"M19 3H5c-1.1 0-2 .9-2 2v14c0 1.1.9 2 2 2h14c1.1 0 2-.9 2-2V5c0-1.1-.9-2-2-2zM9 17H7v-7h2v7zm4 0h-2V7h2v10zm4 0h-2v-4h2v4z\"/>\n",
              "    </g>\n",
              "</svg>\n",
              "  </button>\n",
              "\n",
              "<style>\n",
              "  .colab-df-quickchart {\n",
              "      --bg-color: #E8F0FE;\n",
              "      --fill-color: #1967D2;\n",
              "      --hover-bg-color: #E2EBFA;\n",
              "      --hover-fill-color: #174EA6;\n",
              "      --disabled-fill-color: #AAA;\n",
              "      --disabled-bg-color: #DDD;\n",
              "  }\n",
              "\n",
              "  [theme=dark] .colab-df-quickchart {\n",
              "      --bg-color: #3B4455;\n",
              "      --fill-color: #D2E3FC;\n",
              "      --hover-bg-color: #434B5C;\n",
              "      --hover-fill-color: #FFFFFF;\n",
              "      --disabled-bg-color: #3B4455;\n",
              "      --disabled-fill-color: #666;\n",
              "  }\n",
              "\n",
              "  .colab-df-quickchart {\n",
              "    background-color: var(--bg-color);\n",
              "    border: none;\n",
              "    border-radius: 50%;\n",
              "    cursor: pointer;\n",
              "    display: none;\n",
              "    fill: var(--fill-color);\n",
              "    height: 32px;\n",
              "    padding: 0;\n",
              "    width: 32px;\n",
              "  }\n",
              "\n",
              "  .colab-df-quickchart:hover {\n",
              "    background-color: var(--hover-bg-color);\n",
              "    box-shadow: 0 1px 2px rgba(60, 64, 67, 0.3), 0 1px 3px 1px rgba(60, 64, 67, 0.15);\n",
              "    fill: var(--button-hover-fill-color);\n",
              "  }\n",
              "\n",
              "  .colab-df-quickchart-complete:disabled,\n",
              "  .colab-df-quickchart-complete:disabled:hover {\n",
              "    background-color: var(--disabled-bg-color);\n",
              "    fill: var(--disabled-fill-color);\n",
              "    box-shadow: none;\n",
              "  }\n",
              "\n",
              "  .colab-df-spinner {\n",
              "    border: 2px solid var(--fill-color);\n",
              "    border-color: transparent;\n",
              "    border-bottom-color: var(--fill-color);\n",
              "    animation:\n",
              "      spin 1s steps(1) infinite;\n",
              "  }\n",
              "\n",
              "  @keyframes spin {\n",
              "    0% {\n",
              "      border-color: transparent;\n",
              "      border-bottom-color: var(--fill-color);\n",
              "      border-left-color: var(--fill-color);\n",
              "    }\n",
              "    20% {\n",
              "      border-color: transparent;\n",
              "      border-left-color: var(--fill-color);\n",
              "      border-top-color: var(--fill-color);\n",
              "    }\n",
              "    30% {\n",
              "      border-color: transparent;\n",
              "      border-left-color: var(--fill-color);\n",
              "      border-top-color: var(--fill-color);\n",
              "      border-right-color: var(--fill-color);\n",
              "    }\n",
              "    40% {\n",
              "      border-color: transparent;\n",
              "      border-right-color: var(--fill-color);\n",
              "      border-top-color: var(--fill-color);\n",
              "    }\n",
              "    60% {\n",
              "      border-color: transparent;\n",
              "      border-right-color: var(--fill-color);\n",
              "    }\n",
              "    80% {\n",
              "      border-color: transparent;\n",
              "      border-right-color: var(--fill-color);\n",
              "      border-bottom-color: var(--fill-color);\n",
              "    }\n",
              "    90% {\n",
              "      border-color: transparent;\n",
              "      border-bottom-color: var(--fill-color);\n",
              "    }\n",
              "  }\n",
              "</style>\n",
              "\n",
              "  <script>\n",
              "    async function quickchart(key) {\n",
              "      const quickchartButtonEl =\n",
              "        document.querySelector('#' + key + ' button');\n",
              "      quickchartButtonEl.disabled = true;  // To prevent multiple clicks.\n",
              "      quickchartButtonEl.classList.add('colab-df-spinner');\n",
              "      try {\n",
              "        const charts = await google.colab.kernel.invokeFunction(\n",
              "            'suggestCharts', [key], {});\n",
              "      } catch (error) {\n",
              "        console.error('Error during call to suggestCharts:', error);\n",
              "      }\n",
              "      quickchartButtonEl.classList.remove('colab-df-spinner');\n",
              "      quickchartButtonEl.classList.add('colab-df-quickchart-complete');\n",
              "    }\n",
              "    (() => {\n",
              "      let quickchartButtonEl =\n",
              "        document.querySelector('#df-a1ec9847-1126-4d68-8dff-e565cc001497 button');\n",
              "      quickchartButtonEl.style.display =\n",
              "        google.colab.kernel.accessAllowed ? 'block' : 'none';\n",
              "    })();\n",
              "  </script>\n",
              "</div>\n",
              "\n",
              "    </div>\n",
              "  </div>\n"
            ],
            "text/plain": [
              "   Unnamed: 0                       date   close      high      low    open  \\\n",
              "0           0  2021-01-04 00:00:00+00:00  129.41  133.6116  126.760  133.52   \n",
              "1           1  2021-01-05 00:00:00+00:00  131.01  131.7400  128.430  128.89   \n",
              "2           2  2021-01-06 00:00:00+00:00  126.60  131.0499  126.382  127.72   \n",
              "3           3  2021-01-07 00:00:00+00:00  130.92  131.6300  127.860  128.36   \n",
              "4           4  2021-01-08 00:00:00+00:00  132.05  132.6300  130.230  132.43   \n",
              "\n",
              "      volume    adjClose     adjHigh      adjLow     adjOpen  adjVolume  \\\n",
              "0  143301887  126.409347  130.513524  123.820793  130.424048  143301887   \n",
              "1   97664898  127.972247  128.685321  125.452070  125.901404   97664898   \n",
              "2  155087970  123.664503  128.011222  123.451558  124.758533  155087970   \n",
              "3  109578157  127.884334  128.577871  124.895287  125.383694  109578157   \n",
              "4  105158245  128.988133  129.554684  127.210333  129.359322  105158245   \n",
              "\n",
              "   divCash  splitFactor  \n",
              "0      0.0          1.0  \n",
              "1      0.0          1.0  \n",
              "2      0.0          1.0  \n",
              "3      0.0          1.0  \n",
              "4      0.0          1.0  "
            ]
          },
          "execution_count": 30,
          "metadata": {},
          "output_type": "execute_result"
        }
      ],
      "source": [
        "df.head()"
      ]
    },
    {
      "cell_type": "code",
      "execution_count": 31,
      "metadata": {
        "colab": {
          "base_uri": "https://localhost:8080/",
          "height": 330
        },
        "id": "Vuj_yPoraf9e",
        "outputId": "4b0c3313-0458-4d5e-f1a9-c56b7a3087d2"
      },
      "outputs": [
        {
          "data": {
            "application/vnd.google.colaboratory.intrinsic+json": {
              "repr_error": "0",
              "type": "dataframe"
            },
            "text/html": [
              "\n",
              "  <div id=\"df-4e1348e1-02ac-4550-b8b8-1e2baab1c4c8\" class=\"colab-df-container\">\n",
              "    <div>\n",
              "<style scoped>\n",
              "    .dataframe tbody tr th:only-of-type {\n",
              "        vertical-align: middle;\n",
              "    }\n",
              "\n",
              "    .dataframe tbody tr th {\n",
              "        vertical-align: top;\n",
              "    }\n",
              "\n",
              "    .dataframe thead th {\n",
              "        text-align: right;\n",
              "    }\n",
              "</style>\n",
              "<table border=\"1\" class=\"dataframe\">\n",
              "  <thead>\n",
              "    <tr style=\"text-align: right;\">\n",
              "      <th></th>\n",
              "      <th>Unnamed: 0</th>\n",
              "      <th>date</th>\n",
              "      <th>close</th>\n",
              "      <th>high</th>\n",
              "      <th>low</th>\n",
              "      <th>open</th>\n",
              "      <th>volume</th>\n",
              "      <th>adjClose</th>\n",
              "      <th>adjHigh</th>\n",
              "      <th>adjLow</th>\n",
              "      <th>adjOpen</th>\n",
              "      <th>adjVolume</th>\n",
              "      <th>divCash</th>\n",
              "      <th>splitFactor</th>\n",
              "    </tr>\n",
              "  </thead>\n",
              "  <tbody>\n",
              "    <tr>\n",
              "      <th>1034</th>\n",
              "      <td>1034</td>\n",
              "      <td>2025-02-14 00:00:00+00:00</td>\n",
              "      <td>244.60</td>\n",
              "      <td>245.55</td>\n",
              "      <td>240.9900</td>\n",
              "      <td>241.25</td>\n",
              "      <td>40896227</td>\n",
              "      <td>244.60</td>\n",
              "      <td>245.55</td>\n",
              "      <td>240.9900</td>\n",
              "      <td>241.25</td>\n",
              "      <td>40896227</td>\n",
              "      <td>0.0</td>\n",
              "      <td>1.0</td>\n",
              "    </tr>\n",
              "    <tr>\n",
              "      <th>1035</th>\n",
              "      <td>1035</td>\n",
              "      <td>2025-02-18 00:00:00+00:00</td>\n",
              "      <td>244.47</td>\n",
              "      <td>245.18</td>\n",
              "      <td>241.8400</td>\n",
              "      <td>244.15</td>\n",
              "      <td>48822491</td>\n",
              "      <td>244.47</td>\n",
              "      <td>245.18</td>\n",
              "      <td>241.8400</td>\n",
              "      <td>244.15</td>\n",
              "      <td>48822491</td>\n",
              "      <td>0.0</td>\n",
              "      <td>1.0</td>\n",
              "    </tr>\n",
              "    <tr>\n",
              "      <th>1036</th>\n",
              "      <td>1036</td>\n",
              "      <td>2025-02-19 00:00:00+00:00</td>\n",
              "      <td>244.87</td>\n",
              "      <td>246.01</td>\n",
              "      <td>243.1604</td>\n",
              "      <td>244.66</td>\n",
              "      <td>32204215</td>\n",
              "      <td>244.87</td>\n",
              "      <td>246.01</td>\n",
              "      <td>243.1604</td>\n",
              "      <td>244.66</td>\n",
              "      <td>32204215</td>\n",
              "      <td>0.0</td>\n",
              "      <td>1.0</td>\n",
              "    </tr>\n",
              "    <tr>\n",
              "      <th>1037</th>\n",
              "      <td>1037</td>\n",
              "      <td>2025-02-20 00:00:00+00:00</td>\n",
              "      <td>245.83</td>\n",
              "      <td>246.78</td>\n",
              "      <td>244.2900</td>\n",
              "      <td>244.94</td>\n",
              "      <td>32316907</td>\n",
              "      <td>245.83</td>\n",
              "      <td>246.78</td>\n",
              "      <td>244.2900</td>\n",
              "      <td>244.94</td>\n",
              "      <td>32316907</td>\n",
              "      <td>0.0</td>\n",
              "      <td>1.0</td>\n",
              "    </tr>\n",
              "    <tr>\n",
              "      <th>1038</th>\n",
              "      <td>1038</td>\n",
              "      <td>2025-02-21 00:00:00+00:00</td>\n",
              "      <td>245.55</td>\n",
              "      <td>248.69</td>\n",
              "      <td>245.2200</td>\n",
              "      <td>245.95</td>\n",
              "      <td>53197431</td>\n",
              "      <td>245.55</td>\n",
              "      <td>248.69</td>\n",
              "      <td>245.2200</td>\n",
              "      <td>245.95</td>\n",
              "      <td>53197431</td>\n",
              "      <td>0.0</td>\n",
              "      <td>1.0</td>\n",
              "    </tr>\n",
              "  </tbody>\n",
              "</table>\n",
              "</div>\n",
              "    <div class=\"colab-df-buttons\">\n",
              "\n",
              "  <div class=\"colab-df-container\">\n",
              "    <button class=\"colab-df-convert\" onclick=\"convertToInteractive('df-4e1348e1-02ac-4550-b8b8-1e2baab1c4c8')\"\n",
              "            title=\"Convert this dataframe to an interactive table.\"\n",
              "            style=\"display:none;\">\n",
              "\n",
              "  <svg xmlns=\"http://www.w3.org/2000/svg\" height=\"24px\" viewBox=\"0 -960 960 960\">\n",
              "    <path d=\"M120-120v-720h720v720H120Zm60-500h600v-160H180v160Zm220 220h160v-160H400v160Zm0 220h160v-160H400v160ZM180-400h160v-160H180v160Zm440 0h160v-160H620v160ZM180-180h160v-160H180v160Zm440 0h160v-160H620v160Z\"/>\n",
              "  </svg>\n",
              "    </button>\n",
              "\n",
              "  <style>\n",
              "    .colab-df-container {\n",
              "      display:flex;\n",
              "      gap: 12px;\n",
              "    }\n",
              "\n",
              "    .colab-df-convert {\n",
              "      background-color: #E8F0FE;\n",
              "      border: none;\n",
              "      border-radius: 50%;\n",
              "      cursor: pointer;\n",
              "      display: none;\n",
              "      fill: #1967D2;\n",
              "      height: 32px;\n",
              "      padding: 0 0 0 0;\n",
              "      width: 32px;\n",
              "    }\n",
              "\n",
              "    .colab-df-convert:hover {\n",
              "      background-color: #E2EBFA;\n",
              "      box-shadow: 0px 1px 2px rgba(60, 64, 67, 0.3), 0px 1px 3px 1px rgba(60, 64, 67, 0.15);\n",
              "      fill: #174EA6;\n",
              "    }\n",
              "\n",
              "    .colab-df-buttons div {\n",
              "      margin-bottom: 4px;\n",
              "    }\n",
              "\n",
              "    [theme=dark] .colab-df-convert {\n",
              "      background-color: #3B4455;\n",
              "      fill: #D2E3FC;\n",
              "    }\n",
              "\n",
              "    [theme=dark] .colab-df-convert:hover {\n",
              "      background-color: #434B5C;\n",
              "      box-shadow: 0px 1px 3px 1px rgba(0, 0, 0, 0.15);\n",
              "      filter: drop-shadow(0px 1px 2px rgba(0, 0, 0, 0.3));\n",
              "      fill: #FFFFFF;\n",
              "    }\n",
              "  </style>\n",
              "\n",
              "    <script>\n",
              "      const buttonEl =\n",
              "        document.querySelector('#df-4e1348e1-02ac-4550-b8b8-1e2baab1c4c8 button.colab-df-convert');\n",
              "      buttonEl.style.display =\n",
              "        google.colab.kernel.accessAllowed ? 'block' : 'none';\n",
              "\n",
              "      async function convertToInteractive(key) {\n",
              "        const element = document.querySelector('#df-4e1348e1-02ac-4550-b8b8-1e2baab1c4c8');\n",
              "        const dataTable =\n",
              "          await google.colab.kernel.invokeFunction('convertToInteractive',\n",
              "                                                    [key], {});\n",
              "        if (!dataTable) return;\n",
              "\n",
              "        const docLinkHtml = 'Like what you see? Visit the ' +\n",
              "          '<a target=\"_blank\" href=https://colab.research.google.com/notebooks/data_table.ipynb>data table notebook</a>'\n",
              "          + ' to learn more about interactive tables.';\n",
              "        element.innerHTML = '';\n",
              "        dataTable['output_type'] = 'display_data';\n",
              "        await google.colab.output.renderOutput(dataTable, element);\n",
              "        const docLink = document.createElement('div');\n",
              "        docLink.innerHTML = docLinkHtml;\n",
              "        element.appendChild(docLink);\n",
              "      }\n",
              "    </script>\n",
              "  </div>\n",
              "\n",
              "\n",
              "<div id=\"df-c7a8a6e3-05c0-4a5e-ac1e-8eaf740b9976\">\n",
              "  <button class=\"colab-df-quickchart\" onclick=\"quickchart('df-c7a8a6e3-05c0-4a5e-ac1e-8eaf740b9976')\"\n",
              "            title=\"Suggest charts\"\n",
              "            style=\"display:none;\">\n",
              "\n",
              "<svg xmlns=\"http://www.w3.org/2000/svg\" height=\"24px\"viewBox=\"0 0 24 24\"\n",
              "     width=\"24px\">\n",
              "    <g>\n",
              "        <path d=\"M19 3H5c-1.1 0-2 .9-2 2v14c0 1.1.9 2 2 2h14c1.1 0 2-.9 2-2V5c0-1.1-.9-2-2-2zM9 17H7v-7h2v7zm4 0h-2V7h2v10zm4 0h-2v-4h2v4z\"/>\n",
              "    </g>\n",
              "</svg>\n",
              "  </button>\n",
              "\n",
              "<style>\n",
              "  .colab-df-quickchart {\n",
              "      --bg-color: #E8F0FE;\n",
              "      --fill-color: #1967D2;\n",
              "      --hover-bg-color: #E2EBFA;\n",
              "      --hover-fill-color: #174EA6;\n",
              "      --disabled-fill-color: #AAA;\n",
              "      --disabled-bg-color: #DDD;\n",
              "  }\n",
              "\n",
              "  [theme=dark] .colab-df-quickchart {\n",
              "      --bg-color: #3B4455;\n",
              "      --fill-color: #D2E3FC;\n",
              "      --hover-bg-color: #434B5C;\n",
              "      --hover-fill-color: #FFFFFF;\n",
              "      --disabled-bg-color: #3B4455;\n",
              "      --disabled-fill-color: #666;\n",
              "  }\n",
              "\n",
              "  .colab-df-quickchart {\n",
              "    background-color: var(--bg-color);\n",
              "    border: none;\n",
              "    border-radius: 50%;\n",
              "    cursor: pointer;\n",
              "    display: none;\n",
              "    fill: var(--fill-color);\n",
              "    height: 32px;\n",
              "    padding: 0;\n",
              "    width: 32px;\n",
              "  }\n",
              "\n",
              "  .colab-df-quickchart:hover {\n",
              "    background-color: var(--hover-bg-color);\n",
              "    box-shadow: 0 1px 2px rgba(60, 64, 67, 0.3), 0 1px 3px 1px rgba(60, 64, 67, 0.15);\n",
              "    fill: var(--button-hover-fill-color);\n",
              "  }\n",
              "\n",
              "  .colab-df-quickchart-complete:disabled,\n",
              "  .colab-df-quickchart-complete:disabled:hover {\n",
              "    background-color: var(--disabled-bg-color);\n",
              "    fill: var(--disabled-fill-color);\n",
              "    box-shadow: none;\n",
              "  }\n",
              "\n",
              "  .colab-df-spinner {\n",
              "    border: 2px solid var(--fill-color);\n",
              "    border-color: transparent;\n",
              "    border-bottom-color: var(--fill-color);\n",
              "    animation:\n",
              "      spin 1s steps(1) infinite;\n",
              "  }\n",
              "\n",
              "  @keyframes spin {\n",
              "    0% {\n",
              "      border-color: transparent;\n",
              "      border-bottom-color: var(--fill-color);\n",
              "      border-left-color: var(--fill-color);\n",
              "    }\n",
              "    20% {\n",
              "      border-color: transparent;\n",
              "      border-left-color: var(--fill-color);\n",
              "      border-top-color: var(--fill-color);\n",
              "    }\n",
              "    30% {\n",
              "      border-color: transparent;\n",
              "      border-left-color: var(--fill-color);\n",
              "      border-top-color: var(--fill-color);\n",
              "      border-right-color: var(--fill-color);\n",
              "    }\n",
              "    40% {\n",
              "      border-color: transparent;\n",
              "      border-right-color: var(--fill-color);\n",
              "      border-top-color: var(--fill-color);\n",
              "    }\n",
              "    60% {\n",
              "      border-color: transparent;\n",
              "      border-right-color: var(--fill-color);\n",
              "    }\n",
              "    80% {\n",
              "      border-color: transparent;\n",
              "      border-right-color: var(--fill-color);\n",
              "      border-bottom-color: var(--fill-color);\n",
              "    }\n",
              "    90% {\n",
              "      border-color: transparent;\n",
              "      border-bottom-color: var(--fill-color);\n",
              "    }\n",
              "  }\n",
              "</style>\n",
              "\n",
              "  <script>\n",
              "    async function quickchart(key) {\n",
              "      const quickchartButtonEl =\n",
              "        document.querySelector('#' + key + ' button');\n",
              "      quickchartButtonEl.disabled = true;  // To prevent multiple clicks.\n",
              "      quickchartButtonEl.classList.add('colab-df-spinner');\n",
              "      try {\n",
              "        const charts = await google.colab.kernel.invokeFunction(\n",
              "            'suggestCharts', [key], {});\n",
              "      } catch (error) {\n",
              "        console.error('Error during call to suggestCharts:', error);\n",
              "      }\n",
              "      quickchartButtonEl.classList.remove('colab-df-spinner');\n",
              "      quickchartButtonEl.classList.add('colab-df-quickchart-complete');\n",
              "    }\n",
              "    (() => {\n",
              "      let quickchartButtonEl =\n",
              "        document.querySelector('#df-c7a8a6e3-05c0-4a5e-ac1e-8eaf740b9976 button');\n",
              "      quickchartButtonEl.style.display =\n",
              "        google.colab.kernel.accessAllowed ? 'block' : 'none';\n",
              "    })();\n",
              "  </script>\n",
              "</div>\n",
              "\n",
              "    </div>\n",
              "  </div>\n"
            ],
            "text/plain": [
              "      Unnamed: 0                       date   close    high       low    open  \\\n",
              "1034        1034  2025-02-14 00:00:00+00:00  244.60  245.55  240.9900  241.25   \n",
              "1035        1035  2025-02-18 00:00:00+00:00  244.47  245.18  241.8400  244.15   \n",
              "1036        1036  2025-02-19 00:00:00+00:00  244.87  246.01  243.1604  244.66   \n",
              "1037        1037  2025-02-20 00:00:00+00:00  245.83  246.78  244.2900  244.94   \n",
              "1038        1038  2025-02-21 00:00:00+00:00  245.55  248.69  245.2200  245.95   \n",
              "\n",
              "        volume  adjClose  adjHigh    adjLow  adjOpen  adjVolume  divCash  \\\n",
              "1034  40896227    244.60   245.55  240.9900   241.25   40896227      0.0   \n",
              "1035  48822491    244.47   245.18  241.8400   244.15   48822491      0.0   \n",
              "1036  32204215    244.87   246.01  243.1604   244.66   32204215      0.0   \n",
              "1037  32316907    245.83   246.78  244.2900   244.94   32316907      0.0   \n",
              "1038  53197431    245.55   248.69  245.2200   245.95   53197431      0.0   \n",
              "\n",
              "      splitFactor  \n",
              "1034          1.0  \n",
              "1035          1.0  \n",
              "1036          1.0  \n",
              "1037          1.0  \n",
              "1038          1.0  "
            ]
          },
          "execution_count": 31,
          "metadata": {},
          "output_type": "execute_result"
        }
      ],
      "source": [
        "df.tail()"
      ]
    },
    {
      "cell_type": "code",
      "execution_count": 32,
      "metadata": {
        "id": "ClvjjGVlaf9f"
      },
      "outputs": [],
      "source": [
        "df1=df.reset_index()['close']"
      ]
    },
    {
      "cell_type": "code",
      "execution_count": 33,
      "metadata": {
        "colab": {
          "base_uri": "https://localhost:8080/",
          "height": 458
        },
        "id": "XI3iQUMmaf9f",
        "outputId": "c493d91d-2af3-410e-aa40-42fb8450a193"
      },
      "outputs": [
        {
          "data": {
            "text/html": [
              "<div>\n",
              "<style scoped>\n",
              "    .dataframe tbody tr th:only-of-type {\n",
              "        vertical-align: middle;\n",
              "    }\n",
              "\n",
              "    .dataframe tbody tr th {\n",
              "        vertical-align: top;\n",
              "    }\n",
              "\n",
              "    .dataframe thead th {\n",
              "        text-align: right;\n",
              "    }\n",
              "</style>\n",
              "<table border=\"1\" class=\"dataframe\">\n",
              "  <thead>\n",
              "    <tr style=\"text-align: right;\">\n",
              "      <th></th>\n",
              "      <th>close</th>\n",
              "    </tr>\n",
              "  </thead>\n",
              "  <tbody>\n",
              "    <tr>\n",
              "      <th>0</th>\n",
              "      <td>129.41</td>\n",
              "    </tr>\n",
              "    <tr>\n",
              "      <th>1</th>\n",
              "      <td>131.01</td>\n",
              "    </tr>\n",
              "    <tr>\n",
              "      <th>2</th>\n",
              "      <td>126.60</td>\n",
              "    </tr>\n",
              "    <tr>\n",
              "      <th>3</th>\n",
              "      <td>130.92</td>\n",
              "    </tr>\n",
              "    <tr>\n",
              "      <th>4</th>\n",
              "      <td>132.05</td>\n",
              "    </tr>\n",
              "    <tr>\n",
              "      <th>...</th>\n",
              "      <td>...</td>\n",
              "    </tr>\n",
              "    <tr>\n",
              "      <th>1034</th>\n",
              "      <td>244.60</td>\n",
              "    </tr>\n",
              "    <tr>\n",
              "      <th>1035</th>\n",
              "      <td>244.47</td>\n",
              "    </tr>\n",
              "    <tr>\n",
              "      <th>1036</th>\n",
              "      <td>244.87</td>\n",
              "    </tr>\n",
              "    <tr>\n",
              "      <th>1037</th>\n",
              "      <td>245.83</td>\n",
              "    </tr>\n",
              "    <tr>\n",
              "      <th>1038</th>\n",
              "      <td>245.55</td>\n",
              "    </tr>\n",
              "  </tbody>\n",
              "</table>\n",
              "<p>1039 rows × 1 columns</p>\n",
              "</div><br><label><b>dtype:</b> float64</label>"
            ],
            "text/plain": [
              "0       129.41\n",
              "1       131.01\n",
              "2       126.60\n",
              "3       130.92\n",
              "4       132.05\n",
              "         ...  \n",
              "1034    244.60\n",
              "1035    244.47\n",
              "1036    244.87\n",
              "1037    245.83\n",
              "1038    245.55\n",
              "Name: close, Length: 1039, dtype: float64"
            ]
          },
          "execution_count": 33,
          "metadata": {},
          "output_type": "execute_result"
        }
      ],
      "source": [
        "df1"
      ]
    },
    {
      "cell_type": "code",
      "execution_count": 34,
      "metadata": {
        "colab": {
          "base_uri": "https://localhost:8080/",
          "height": 447
        },
        "id": "LBCox51-af9g",
        "outputId": "fd33e8ee-8643-42db-a727-e2b506440fe2"
      },
      "outputs": [
        {
          "data": {
            "text/plain": [
              "[<matplotlib.lines.Line2D at 0x78a0431c5a90>]"
            ]
          },
          "execution_count": 34,
          "metadata": {},
          "output_type": "execute_result"
        },
        {
          "data": {
            "image/png": "[encoded data removed]",
            "text/plain": [
              "<Figure size 640x480 with 1 Axes>"
            ]
          },
          "metadata": {},
          "output_type": "display_data"
        }
      ],
      "source": [
        "import matplotlib.pyplot as plt\n",
        "plt.plot(df1)"
      ]
    },
    {
      "cell_type": "code",
      "execution_count": 35,
      "metadata": {
        "id": "dEINvlqxaf9g"
      },
      "outputs": [],
      "source": [
        "### LSTM are sensitive to the scale of the data. so we apply MinMax scaler"
      ]
    },
    {
      "cell_type": "code",
      "execution_count": 36,
      "metadata": {
        "id": "T2mvTymmaf9g"
      },
      "outputs": [],
      "source": [
        "import numpy as np"
      ]
    },
    {
      "cell_type": "code",
      "execution_count": 37,
      "metadata": {
        "colab": {
          "base_uri": "https://localhost:8080/",
          "height": 458
        },
        "id": "a4Yl9kMjaf9h",
        "outputId": "220401a5-8518-474a-badc-3be71ddc44fa"
      },
      "outputs": [
        {
          "data": {
            "text/html": [
              "<div>\n",
              "<style scoped>\n",
              "    .dataframe tbody tr th:only-of-type {\n",
              "        vertical-align: middle;\n",
              "    }\n",
              "\n",
              "    .dataframe tbody tr th {\n",
              "        vertical-align: top;\n",
              "    }\n",
              "\n",
              "    .dataframe thead th {\n",
              "        text-align: right;\n",
              "    }\n",
              "</style>\n",
              "<table border=\"1\" class=\"dataframe\">\n",
              "  <thead>\n",
              "    <tr style=\"text-align: right;\">\n",
              "      <th></th>\n",
              "      <th>close</th>\n",
              "    </tr>\n",
              "  </thead>\n",
              "  <tbody>\n",
              "    <tr>\n",
              "      <th>0</th>\n",
              "      <td>129.41</td>\n",
              "    </tr>\n",
              "    <tr>\n",
              "      <th>1</th>\n",
              "      <td>131.01</td>\n",
              "    </tr>\n",
              "    <tr>\n",
              "      <th>2</th>\n",
              "      <td>126.60</td>\n",
              "    </tr>\n",
              "    <tr>\n",
              "      <th>3</th>\n",
              "      <td>130.92</td>\n",
              "    </tr>\n",
              "    <tr>\n",
              "      <th>4</th>\n",
              "      <td>132.05</td>\n",
              "    </tr>\n",
              "    <tr>\n",
              "      <th>...</th>\n",
              "      <td>...</td>\n",
              "    </tr>\n",
              "    <tr>\n",
              "      <th>1034</th>\n",
              "      <td>244.60</td>\n",
              "    </tr>\n",
              "    <tr>\n",
              "      <th>1035</th>\n",
              "      <td>244.47</td>\n",
              "    </tr>\n",
              "    <tr>\n",
              "      <th>1036</th>\n",
              "      <td>244.87</td>\n",
              "    </tr>\n",
              "    <tr>\n",
              "      <th>1037</th>\n",
              "      <td>245.83</td>\n",
              "    </tr>\n",
              "    <tr>\n",
              "      <th>1038</th>\n",
              "      <td>245.55</td>\n",
              "    </tr>\n",
              "  </tbody>\n",
              "</table>\n",
              "<p>1039 rows × 1 columns</p>\n",
              "</div><br><label><b>dtype:</b> float64</label>"
            ],
            "text/plain": [
              "0       129.41\n",
              "1       131.01\n",
              "2       126.60\n",
              "3       130.92\n",
              "4       132.05\n",
              "         ...  \n",
              "1034    244.60\n",
              "1035    244.47\n",
              "1036    244.87\n",
              "1037    245.83\n",
              "1038    245.55\n",
              "Name: close, Length: 1039, dtype: float64"
            ]
          },
          "execution_count": 37,
          "metadata": {},
          "output_type": "execute_result"
        }
      ],
      "source": [
        "df1"
      ]
    },
    {
      "cell_type": "code",
      "execution_count": 38,
      "metadata": {
        "id": "9j5dSdjQaf9h"
      },
      "outputs": [],
      "source": [
        "from sklearn.preprocessing import MinMaxScaler\n",
        "scaler=MinMaxScaler(feature_range=(0,1))\n",
        "df1=scaler.fit_transform(np.array(df1).reshape(-1,1))"
      ]
    },
    {
      "cell_type": "code",
      "execution_count": 39,
      "metadata": {
        "colab": {
          "base_uri": "https://localhost:8080/"
        },
        "id": "_Ivw9eL3af9i",
        "outputId": "619a4a3e-259b-438d-a546-fec280205a34"
      },
      "outputs": [
        {
          "name": "stdout",
          "output_type": "stream",
          "text": [
            "[[0.09147624]\n",
            " [0.10269171]\n",
            " [0.07177906]\n",
            " ...\n",
            " [0.90081312]\n",
            " [0.90754241]\n",
            " [0.9055797 ]]\n"
          ]
        }
      ],
      "source": [
        "print(df1)"
      ]
    },
    {
      "cell_type": "code",
      "execution_count": 40,
      "metadata": {
        "id": "JwGZvrKoaf9i"
      },
      "outputs": [],
      "source": [
        "##splitting dataset into train and test split\n",
        "training_size=int(len(df1)*0.65)\n",
        "test_size=len(df1)-training_size\n",
        "train_data,test_data=df1[0:training_size,:],df1[training_size:len(df1),:1]"
      ]
    },
    {
      "cell_type": "code",
      "execution_count": 41,
      "metadata": {
        "colab": {
          "base_uri": "https://localhost:8080/"
        },
        "id": "fJgXYnzjaf9j",
        "outputId": "26a4a4b7-19e4-46ec-addb-53325a4413ae"
      },
      "outputs": [
        {
          "data": {
            "text/plain": [
              "(675, 364)"
            ]
          },
          "execution_count": 41,
          "metadata": {},
          "output_type": "execute_result"
        }
      ],
      "source": [
        "training_size,test_size"
      ]
    },
    {
      "cell_type": "code",
      "execution_count": 42,
      "metadata": {
        "colab": {
          "base_uri": "https://localhost:8080/"
        },
        "id": "sTtjVSNtaf9j",
        "outputId": "10c2d7cc-dc2b-4331-bab4-dc5adef94f6f"
      },
      "outputs": [
        {
          "data": {
            "text/plain": [
              "array([[0.09147624],\n",
              "       [0.10269171],\n",
              "       [0.07177906],\n",
              "       [0.10206084],\n",
              "       [0.10998177],\n",
              "       [0.08846208],\n",
              "       [0.08720034],\n",
              "       [0.10185055],\n",
              "       [0.0879714 ],\n",
              "       [0.07556428],\n",
              "       [0.08040095],\n",
              "       [0.10984158],\n",
              "       [0.1437684 ],\n",
              "       [0.15918968],\n",
              "       [0.18617692],\n",
              "       [0.18785925],\n",
              "       [0.18014861],\n",
              "       [0.14531053],\n",
              "       [0.1093509 ],\n",
              "       [0.12463199],\n",
              "       [0.13059021],\n",
              "       [0.12323006],\n",
              "       [0.14741343],\n",
              "       [0.14299734],\n",
              "       [0.14404879],\n",
              "       [0.13774008],\n",
              "       [0.13339408],\n",
              "       [0.13157157],\n",
              "       [0.13325389],\n",
              "       [0.1179728 ],\n",
              "       [0.10150007],\n",
              "       [0.09357914],\n",
              "       [0.09470069],\n",
              "       [0.06757325],\n",
              "       [0.0665919 ],\n",
              "       [0.06301696],\n",
              "       [0.03245479],\n",
              "       [0.0343474 ],\n",
              "       [0.08012057],\n",
              "       [0.06140474],\n",
              "       [0.03995514],\n",
              "       [0.02642647],\n",
              "       [0.03546895],\n",
              "       [0.        ],\n",
              "       [0.03312071],\n",
              "       [0.02537502],\n",
              "       [0.03925417],\n",
              "       [0.03273517],\n",
              "       [0.05348381],\n",
              "       [0.06455909],\n",
              "       [0.05888126],\n",
              "       [0.02923034],\n",
              "       [0.02544511],\n",
              "       [0.049278  ],\n",
              "       [0.04331978],\n",
              "       [0.02614608],\n",
              "       [0.02965092],\n",
              "       [0.03399692],\n",
              "       [0.03525866],\n",
              "       [0.02481424],\n",
              "       [0.04058601],\n",
              "       [0.04654423],\n",
              "       [0.06687228],\n",
              "       [0.06904528],\n",
              "       [0.08089163],\n",
              "       [0.09813543],\n",
              "       [0.11660592],\n",
              "       [0.10430394],\n",
              "       [0.1266648 ],\n",
              "       [0.10984158],\n",
              "       [0.12715547],\n",
              "       [0.12477219],\n",
              "       [0.12953876],\n",
              "       [0.11741203],\n",
              "       [0.1201458 ],\n",
              "       [0.10921071],\n",
              "       [0.12589373],\n",
              "       [0.1286976 ],\n",
              "       [0.12638441],\n",
              "       [0.12070658],\n",
              "       [0.12000561],\n",
              "       [0.10584607],\n",
              "       [0.11341651],\n",
              "       [0.08054115],\n",
              "       [0.08229357],\n",
              "       [0.09378943],\n",
              "       [0.09708398],\n",
              "       [0.07353147],\n",
              "       [0.06694238],\n",
              "       [0.04493201],\n",
              "       [0.06035329],\n",
              "       [0.07773728],\n",
              "       [0.06946586],\n",
              "       [0.05951213],\n",
              "       [0.05839058],\n",
              "       [0.07675592],\n",
              "       [0.06357774],\n",
              "       [0.07528389],\n",
              "       [0.07388196],\n",
              "       [0.07353147],\n",
              "       [0.06252629],\n",
              "       [0.05782981],\n",
              "       [0.05551661],\n",
              "       [0.06098416],\n",
              "       [0.05032945],\n",
              "       [0.06680219],\n",
              "       [0.06687228],\n",
              "       [0.07276041],\n",
              "       [0.07549418],\n",
              "       [0.06834432],\n",
              "       [0.07703631],\n",
              "       [0.09897659],\n",
              "       [0.09308846],\n",
              "       [0.0966634 ],\n",
              "       [0.10815926],\n",
              "       [0.09883639],\n",
              "       [0.11173419],\n",
              "       [0.12351044],\n",
              "       [0.12154774],\n",
              "       [0.11951493],\n",
              "       [0.11741203],\n",
              "       [0.12911818],\n",
              "       [0.13998318],\n",
              "       [0.14439927],\n",
              "       [0.14657227],\n",
              "       [0.16542829],\n",
              "       [0.17986822],\n",
              "       [0.19774289],\n",
              "       [0.18842002],\n",
              "       [0.20152811],\n",
              "       [0.19725221],\n",
              "       [0.20524324],\n",
              "       [0.22984719],\n",
              "       [0.22515071],\n",
              "       [0.21050049],\n",
              "       [0.18288238],\n",
              "       [0.20881817],\n",
              "       [0.20356091],\n",
              "       [0.21337446],\n",
              "       [0.22571148],\n",
              "       [0.22872564],\n",
              "       [0.21316417],\n",
              "       [0.20061685],\n",
              "       [0.20524324],\n",
              "       [0.20678536],\n",
              "       [0.20440207],\n",
              "       [0.21729987],\n",
              "       [0.21442591],\n",
              "       [0.21519697],\n",
              "       [0.20874807],\n",
              "       [0.20839759],\n",
              "       [0.20496285],\n",
              "       [0.20678536],\n",
              "       [0.22802467],\n",
              "       [0.22949671],\n",
              "       [0.24365625],\n",
              "       [0.23713725],\n",
              "       [0.2102902 ],\n",
              "       [0.21267349],\n",
              "       [0.2231179 ],\n",
              "       [0.23377261],\n",
              "       [0.23314174],\n",
              "       [0.22430955],\n",
              "       [0.21856162],\n",
              "       [0.22599187],\n",
              "       [0.25767559],\n",
              "       [0.24863311],\n",
              "       [0.25339969],\n",
              "       [0.26139072],\n",
              "       [0.26594701],\n",
              "       [0.28270013],\n",
              "       [0.27162484],\n",
              "       [0.26433478],\n",
              "       [0.22858545],\n",
              "       [0.23265106],\n",
              "       [0.22262723],\n",
              "       [0.22900603],\n",
              "       [0.22732371],\n",
              "       [0.2081873 ],\n",
              "       [0.18631712],\n",
              "       [0.18975186],\n",
              "       [0.20671527],\n",
              "       [0.21358475],\n",
              "       [0.21421562],\n",
              "       [0.20335062],\n",
              "       [0.17909715],\n",
              "       [0.18554605],\n",
              "       [0.17622319],\n",
              "       [0.18428431],\n",
              "       [0.15968036],\n",
              "       [0.17348942],\n",
              "       [0.17972802],\n",
              "       [0.1887705 ],\n",
              "       [0.18603673],\n",
              "       [0.18540586],\n",
              "       [0.17629328],\n",
              "       [0.17208748],\n",
              "       [0.19206505],\n",
              "       [0.1996355 ],\n",
              "       [0.21162204],\n",
              "       [0.22711342],\n",
              "       [0.23061825],\n",
              "       [0.23216038],\n",
              "       [0.22662274],\n",
              "       [0.22627226],\n",
              "       [0.23103883],\n",
              "       [0.22774429],\n",
              "       [0.25382027],\n",
              "       [0.23440348],\n",
              "       [0.22851535],\n",
              "       [0.2359456 ],\n",
              "       [0.24624982],\n",
              "       [0.2425347 ],\n",
              "       [0.24477779],\n",
              "       [0.23888967],\n",
              "       [0.24148325],\n",
              "       [0.22122529],\n",
              "       [0.22087481],\n",
              "       [0.23573531],\n",
              "       [0.23580541],\n",
              "       [0.24281508],\n",
              "       [0.26026917],\n",
              "       [0.29097154],\n",
              "       [0.30975747],\n",
              "       [0.31305201],\n",
              "       [0.31578578],\n",
              "       [0.31950091],\n",
              "       [0.28354129],\n",
              "       [0.30758447],\n",
              "       [0.34305341],\n",
              "       [0.33933829],\n",
              "       [0.33225852],\n",
              "       [0.31879994],\n",
              "       [0.34319361],\n",
              "       [0.38427029],\n",
              "       [0.41160802],\n",
              "       [0.40796299],\n",
              "       [0.44224029],\n",
              "       [0.4162344 ],\n",
              "       [0.40635076],\n",
              "       [0.44118884],\n",
              "       [0.39184074],\n",
              "       [0.38398991],\n",
              "       [0.37424646],\n",
              "       [0.3969578 ],\n",
              "       [0.41553344],\n",
              "       [0.42001963],\n",
              "       [0.4484088 ],\n",
              "       [0.44111874],\n",
              "       [0.44174961],\n",
              "       [0.4334782 ],\n",
              "       [0.42906211],\n",
              "       [0.46018506],\n",
              "       [0.44399271],\n",
              "       [0.41048647],\n",
              "       [0.39001823],\n",
              "       [0.39120987],\n",
              "       [0.39135006],\n",
              "       [0.41160802],\n",
              "       [0.41476237],\n",
              "       [0.39135006],\n",
              "       [0.39751858],\n",
              "       [0.37459694],\n",
              "       [0.34957241],\n",
              "       [0.33751577],\n",
              "       [0.32279546],\n",
              "       [0.31725782],\n",
              "       [0.30436002],\n",
              "       [0.30372915],\n",
              "       [0.3004346 ],\n",
              "       [0.37831207],\n",
              "       [0.40950512],\n",
              "       [0.40831347],\n",
              "       [0.41693537],\n",
              "       [0.39632693],\n",
              "       [0.392752  ],\n",
              "       [0.38763494],\n",
              "       [0.4098556 ],\n",
              "       [0.42001963],\n",
              "       [0.39085939],\n",
              "       [0.36646572],\n",
              "       [0.36814804],\n",
              "       [0.39555587],\n",
              "       [0.39387355],\n",
              "       [0.36814804],\n",
              "       [0.35707276],\n",
              "       [0.33618393],\n",
              "       [0.30639282],\n",
              "       [0.32510865],\n",
              "       [0.33989906],\n",
              "       [0.34179167],\n",
              "       [0.3283331 ],\n",
              "       [0.3518856 ],\n",
              "       [0.34957241],\n",
              "       [0.32812281],\n",
              "       [0.30099537],\n",
              "       [0.28795738],\n",
              "       [0.32658068],\n",
              "       [0.29552783],\n",
              "       [0.26896117],\n",
              "       [0.24015141],\n",
              "       [0.27148465],\n",
              "       [0.30302818],\n",
              "       [0.31024814],\n",
              "       [0.33380064],\n",
              "       [0.34361419],\n",
              "       [0.36772746],\n",
              "       [0.37747091],\n",
              "       [0.40452825],\n",
              "       [0.40908454],\n",
              "       [0.41525305],\n",
              "       [0.43880555],\n",
              "       [0.43046404],\n",
              "       [0.40831347],\n",
              "       [0.40621057],\n",
              "       [0.43516052],\n",
              "       [0.41146783],\n",
              "       [0.38882658],\n",
              "       [0.39099958],\n",
              "       [0.37662975],\n",
              "       [0.34620777],\n",
              "       [0.35959624],\n",
              "       [0.37880275],\n",
              "       [0.34298332],\n",
              "       [0.34144119],\n",
              "       [0.35777373],\n",
              "       [0.35658208],\n",
              "       [0.35090425],\n",
              "       [0.31844946],\n",
              "       [0.32609   ],\n",
              "       [0.28347119],\n",
              "       [0.28185897],\n",
              "       [0.33141736],\n",
              "       [0.28942941],\n",
              "       [0.29160241],\n",
              "       [0.30225711],\n",
              "       [0.34810038],\n",
              "       [0.2832609 ],\n",
              "       [0.28683583],\n",
              "       [0.25024534],\n",
              "       [0.26741904],\n",
              "       [0.21127155],\n",
              "       [0.18365344],\n",
              "       [0.21554746],\n",
              "       [0.20454227],\n",
              "       [0.23047806],\n",
              "       [0.17145661],\n",
              "       [0.14713304],\n",
              "       [0.14881537],\n",
              "       [0.18750876],\n",
              "       [0.16823216],\n",
              "       [0.16935371],\n",
              "       [0.19220524],\n",
              "       [0.23328193],\n",
              "       [0.22767419],\n",
              "       [0.22676293],\n",
              "       [0.24428712],\n",
              "       [0.20342072],\n",
              "       [0.20874807],\n",
              "       [0.22676293],\n",
              "       [0.22150568],\n",
              "       [0.18421422],\n",
              "       [0.14559092],\n",
              "       [0.10879013],\n",
              "       [0.11495864],\n",
              "       [0.13367447],\n",
              "       [0.09603252],\n",
              "       [0.10654703],\n",
              "       [0.13675873],\n",
              "       [0.1331137 ],\n",
              "       [0.15358194],\n",
              "       [0.17734474],\n",
              "       [0.17734474],\n",
              "       [0.14776391],\n",
              "       [0.16031123],\n",
              "       [0.14271695],\n",
              "       [0.15820833],\n",
              "       [0.17664377],\n",
              "       [0.18617692],\n",
              "       [0.2102201 ],\n",
              "       [0.21505678],\n",
              "       [0.19984579],\n",
              "       [0.20678536],\n",
              "       [0.20419178],\n",
              "       [0.22508061],\n",
              "       [0.23699706],\n",
              "       [0.21526707],\n",
              "       [0.24281508],\n",
              "       [0.25711482],\n",
              "       [0.27330716],\n",
              "       [0.26447498],\n",
              "       [0.25648395],\n",
              "       [0.24702089],\n",
              "       [0.28340109],\n",
              "       [0.28732651],\n",
              "       [0.32349643],\n",
              "       [0.31648675],\n",
              "       [0.30597224],\n",
              "       [0.34887144],\n",
              "       [0.34662835],\n",
              "       [0.3434039 ],\n",
              "       [0.34003925],\n",
              "       [0.34038974],\n",
              "       [0.37067153],\n",
              "       [0.36541427],\n",
              "       [0.39071919],\n",
              "       [0.39835974],\n",
              "       [0.39723819],\n",
              "       [0.40789289],\n",
              "       [0.40508902],\n",
              "       [0.38665358],\n",
              "       [0.35896537],\n",
              "       [0.35658208],\n",
              "       [0.35868499],\n",
              "       [0.37620917],\n",
              "       [0.33127716],\n",
              "       [0.31557549],\n",
              "       [0.2982616 ],\n",
              "       [0.28641525],\n",
              "       [0.29160241],\n",
              "       [0.27653161],\n",
              "       [0.26755923],\n",
              "       [0.27758306],\n",
              "       [0.26706855],\n",
              "       [0.2874667 ],\n",
              "       [0.32994532],\n",
              "       [0.26272256],\n",
              "       [0.27302678],\n",
              "       [0.25241834],\n",
              "       [0.24071218],\n",
              "       [0.26720875],\n",
              "       [0.28417216],\n",
              "       [0.2618814 ],\n",
              "       [0.25501192],\n",
              "       [0.23881957],\n",
              "       [0.24120286],\n",
              "       [0.24814244],\n",
              "       [0.23468386],\n",
              "       [0.18309267],\n",
              "       [0.15309127],\n",
              "       [0.18288238],\n",
              "       [0.20846769],\n",
              "       [0.21057059],\n",
              "       [0.2037712 ],\n",
              "       [0.16633955],\n",
              "       [0.16865274],\n",
              "       [0.15855881],\n",
              "       [0.15407262],\n",
              "       [0.1866676 ],\n",
              "       [0.15435301],\n",
              "       [0.18260199],\n",
              "       [0.19199495],\n",
              "       [0.19276602],\n",
              "       [0.18947147],\n",
              "       [0.216669  ],\n",
              "       [0.23195009],\n",
              "       [0.25220805],\n",
              "       [0.23124912],\n",
              "       [0.19935511],\n",
              "       [0.27604094],\n",
              "       [0.25921772],\n",
              "       [0.2403617 ],\n",
              "       [0.20096733],\n",
              "       [0.15785784],\n",
              "       [0.15435301],\n",
              "       [0.15813823],\n",
              "       [0.16220384],\n",
              "       [0.12974905],\n",
              "       [0.21386513],\n",
              "       [0.23370251],\n",
              "       [0.22374877],\n",
              "       [0.2360858 ],\n",
              "       [0.22732371],\n",
              "       [0.24085238],\n",
              "       [0.24484789],\n",
              "       [0.22185616],\n",
              "       [0.23706715],\n",
              "       [0.24330576],\n",
              "       [0.22255713],\n",
              "       [0.1952895 ],\n",
              "       [0.17391   ],\n",
              "       [0.22199635],\n",
              "       [0.22395906],\n",
              "       [0.22045423],\n",
              "       [0.21218281],\n",
              "       [0.18610683],\n",
              "       [0.17229777],\n",
              "       [0.18428431],\n",
              "       [0.18084957],\n",
              "       [0.19718211],\n",
              "       [0.20405159],\n",
              "       [0.18820973],\n",
              "       [0.14117482],\n",
              "       [0.12722557],\n",
              "       [0.11222487],\n",
              "       [0.11173419],\n",
              "       [0.13381466],\n",
              "       [0.11124352],\n",
              "       [0.10864994],\n",
              "       [0.09582223],\n",
              "       [0.06785364],\n",
              "       [0.09287817],\n",
              "       [0.09512127],\n",
              "       [0.06105425],\n",
              "       [0.07009673],\n",
              "       [0.06070377],\n",
              "       [0.09294827],\n",
              "       [0.0966634 ],\n",
              "       [0.10072901],\n",
              "       [0.1200757 ],\n",
              "       [0.11951493],\n",
              "       [0.12897799],\n",
              "       [0.1372494 ],\n",
              "       [0.13213234],\n",
              "       [0.13255292],\n",
              "       [0.15077807],\n",
              "       [0.17348942],\n",
              "       [0.18344315],\n",
              "       [0.17874667],\n",
              "       [0.19346698],\n",
              "       [0.20727604],\n",
              "       [0.1867377 ],\n",
              "       [0.19578018],\n",
              "       [0.2037712 ],\n",
              "       [0.24155334],\n",
              "       [0.26734894],\n",
              "       [0.24793215],\n",
              "       [0.26840039],\n",
              "       [0.24926398],\n",
              "       [0.24190383],\n",
              "       [0.24288518],\n",
              "       [0.26279265],\n",
              "       [0.25823637],\n",
              "       [0.27316697],\n",
              "       [0.2618113 ],\n",
              "       [0.25368008],\n",
              "       [0.22515071],\n",
              "       [0.22816487],\n",
              "       [0.23159961],\n",
              "       [0.21274359],\n",
              "       [0.22122529],\n",
              "       [0.21765036],\n",
              "       [0.20293004],\n",
              "       [0.20713585],\n",
              "       [0.24302538],\n",
              "       [0.26265246],\n",
              "       [0.24702089],\n",
              "       [0.25592317],\n",
              "       [0.23994112],\n",
              "       [0.2252909 ],\n",
              "       [0.23909996],\n",
              "       [0.25396047],\n",
              "       [0.25676433],\n",
              "       [0.276812  ],\n",
              "       [0.27085378],\n",
              "       [0.28767699],\n",
              "       [0.30085518],\n",
              "       [0.29069115],\n",
              "       [0.29840179],\n",
              "       [0.30765456],\n",
              "       [0.29384551],\n",
              "       [0.28942941],\n",
              "       [0.31129959],\n",
              "       [0.32244497],\n",
              "       [0.34024954],\n",
              "       [0.34915183],\n",
              "       [0.34536661],\n",
              "       [0.33225852],\n",
              "       [0.33856722],\n",
              "       [0.32013178],\n",
              "       [0.31150988],\n",
              "       [0.30660311],\n",
              "       [0.34487593],\n",
              "       [0.34242254],\n",
              "       [0.34256274],\n",
              "       [0.35125473],\n",
              "       [0.35938595],\n",
              "       [0.35251647],\n",
              "       [0.34109071],\n",
              "       [0.3432637 ],\n",
              "       [0.33232861],\n",
              "       [0.33225852],\n",
              "       [0.3648535 ],\n",
              "       [0.37375578],\n",
              "       [0.37312491],\n",
              "       [0.36576476],\n",
              "       [0.35812421],\n",
              "       [0.34648815],\n",
              "       [0.40102341],\n",
              "       [0.40053274],\n",
              "       [0.388406  ],\n",
              "       [0.40091827],\n",
              "       [0.40228515],\n",
              "       [0.39401374],\n",
              "       [0.3905089 ],\n",
              "       [0.3905089 ],\n",
              "       [0.3948549 ],\n",
              "       [0.41139773],\n",
              "       [0.41216879],\n",
              "       [0.40543951],\n",
              "       [0.38693397],\n",
              "       [0.38889668],\n",
              "       [0.3969578 ],\n",
              "       [0.4140614 ],\n",
              "       [0.42716949],\n",
              "       [0.42681901],\n",
              "       [0.44672648],\n",
              "       [0.4527548 ],\n",
              "       [0.44315155],\n",
              "       [0.44055797],\n",
              "       [0.43081452],\n",
              "       [0.45009113],\n",
              "       [0.4528249 ],\n",
              "       [0.47266227],\n",
              "       [0.46929763],\n",
              "       [0.47378382],\n",
              "       [0.48822375],\n",
              "       [0.4805832 ],\n",
              "       [0.48121408],\n",
              "       [0.47385392],\n",
              "       [0.49516333],\n",
              "       [0.49292023],\n",
              "       [0.48303659],\n",
              "       [0.50259358],\n",
              "       [0.51093509],\n",
              "       [0.51331838],\n",
              "       [0.54402075],\n",
              "       [0.53343614],\n",
              "       [0.52551521],\n",
              "       [0.52887985],\n",
              "       [0.52095892],\n",
              "       [0.5064489 ],\n",
              "       [0.50273377],\n",
              "       [0.51458012],\n",
              "       [0.51997757],\n",
              "       [0.52102902],\n",
              "       [0.54416094],\n",
              "       [0.54233843],\n",
              "       [0.55194168],\n",
              "       [0.53813262],\n",
              "       [0.52979111],\n",
              "       [0.53546895],\n",
              "       [0.54156736],\n",
              "       [0.54773588],\n",
              "       [0.53876349],\n",
              "       [0.55705874],\n",
              "       [0.56140474],\n",
              "       [0.55548156],\n",
              "       [0.5342773 ],\n",
              "       [0.52439366],\n",
              "       [0.46004486],\n",
              "       [0.43803449],\n",
              "       [0.44469368],\n",
              "       [0.4334081 ],\n",
              "       [0.43186598],\n",
              "       [0.43060423],\n",
              "       [0.44231039],\n",
              "       [0.42822094],\n",
              "       [0.42205243],\n",
              "       [0.40403757],\n",
              "       [0.40747231],\n",
              "       [0.41693537],\n",
              "       [0.42667882],\n",
              "       [0.45394645],\n",
              "       [0.42072059],\n",
              "       [0.43635217],\n",
              "       [0.44742745],\n",
              "       [0.47497547],\n",
              "       [0.49971961],\n",
              "       [0.50126174],\n",
              "       [0.51240712],\n",
              "       [0.51408944],\n",
              "       [0.46649376],\n",
              "       [0.42899201],\n",
              "       [0.43333801]])"
            ]
          },
          "execution_count": 42,
          "metadata": {},
          "output_type": "execute_result"
        }
      ],
      "source": [
        "train_data"
      ]
    },
    {
      "cell_type": "code",
      "execution_count": 43,
      "metadata": {
        "id": "_PIJZ8liaf9k"
      },
      "outputs": [],
      "source": [
        "import numpy\n",
        "# convert an array of values into a dataset matrix\n",
        "def create_dataset(dataset, time_step=1):\n",
        "\tdataX, dataY = [], []\n",
        "\tfor i in range(len(dataset)-time_step-1):\n",
        "\t\ta = dataset[i:(i+time_step), 0]   ###i=0, 0,1,2,3-----99   100\n",
        "\t\tdataX.append(a)\n",
        "\t\tdataY.append(dataset[i + time_step, 0])\n",
        "\treturn numpy.array(dataX), numpy.array(dataY)"
      ]
    },
    {
      "cell_type": "code",
      "execution_count": 44,
      "metadata": {
        "id": "_EYEBfRDaf9l"
      },
      "outputs": [],
      "source": [
        "# reshape into X=t,t+1,t+2,t+3 and Y=t+4\n",
        "time_step = 100\n",
        "X_train, y_train = create_dataset(train_data, time_step)\n",
        "X_test, ytest = create_dataset(test_data, time_step)"
      ]
    },
    {
      "cell_type": "code",
      "execution_count": 45,
      "metadata": {
        "colab": {
          "base_uri": "https://localhost:8080/"
        },
        "id": "JesQcAyxaf9l",
        "outputId": "a2c30adb-ad0c-4c07-f387-3df07a06486b"
      },
      "outputs": [
        {
          "name": "stdout",
          "output_type": "stream",
          "text": [
            "(574, 100)\n",
            "(574,)\n"
          ]
        },
        {
          "data": {
            "text/plain": [
              "(None, None)"
            ]
          },
          "execution_count": 45,
          "metadata": {},
          "output_type": "execute_result"
        }
      ],
      "source": [
        "print(X_train.shape), print(y_train.shape)"
      ]
    },
    {
      "cell_type": "code",
      "execution_count": 46,
      "metadata": {
        "colab": {
          "base_uri": "https://localhost:8080/"
        },
        "id": "OiGAwAx8af9m",
        "outputId": "4153e2bf-e1f0-4683-83c0-f37f428ae28e"
      },
      "outputs": [
        {
          "name": "stdout",
          "output_type": "stream",
          "text": [
            "(263, 100)\n",
            "(263,)\n"
          ]
        },
        {
          "data": {
            "text/plain": [
              "(None, None)"
            ]
          },
          "execution_count": 46,
          "metadata": {},
          "output_type": "execute_result"
        }
      ],
      "source": [
        "print(X_test.shape), print(ytest.shape)"
      ]
    },
    {
      "cell_type": "code",
      "execution_count": 47,
      "metadata": {
        "id": "mHsIoQbaaf9m"
      },
      "outputs": [],
      "source": [
        "# reshape input to be [samples, time steps, features] which is required for LSTM\n",
        "X_train =X_train.reshape(X_train.shape[0],X_train.shape[1] , 1)\n",
        "X_test = X_test.reshape(X_test.shape[0],X_test.shape[1] , 1)"
      ]
    },
    {
      "cell_type": "code",
      "execution_count": 48,
      "metadata": {
        "id": "X_5-PKjraf9n"
      },
      "outputs": [],
      "source": [
        "### Create the Stacked LSTM model\n",
        "from tensorflow.keras.models import Sequential\n",
        "from tensorflow.keras.layers import Dense\n",
        "from tensorflow.keras.layers import LSTM"
      ]
    },
    {
      "cell_type": "code",
      "execution_count": 49,
      "metadata": {
        "colab": {
          "base_uri": "https://localhost:8080/"
        },
        "id": "unFgMmRfaf9o",
        "outputId": "72c28f5b-3791-4498-dc6c-4356cb97ab75"
      },
      "outputs": [
        {
          "name": "stderr",
          "output_type": "stream",
          "text": [
            "/usr/local/lib/python3.11/dist-packages/keras/src/layers/rnn/rnn.py:200: UserWarning: Do not pass an `input_shape`/`input_dim` argument to a layer. When using Sequential models, prefer using an `Input(shape)` object as the first layer in the model instead.\n",
            "  super().__init__(**kwargs)\n"
          ]
        }
      ],
      "source": [
        "model=Sequential()\n",
        "model.add(LSTM(50,return_sequences=True,input_shape=(100,1)))\n",
        "model.add(LSTM(50,return_sequences=True))\n",
        "model.add(LSTM(50))\n",
        "model.add(Dense(1))\n",
        "model.compile(loss='mean_squared_error',optimizer='adam')\n"
      ]
    },
    {
      "cell_type": "code",
      "execution_count": 50,
      "metadata": {
        "colab": {
          "base_uri": "https://localhost:8080/",
          "height": 257
        },
        "id": "YTiwcB8Naf9o",
        "outputId": "33e62348-6a52-432c-b5d9-76de89c9cd0c"
      },
      "outputs": [
        {
          "data": {
            "text/html": [
              "<pre style=\"white-space:pre;overflow-x:auto;line-height:normal;font-family:Menlo,'DejaVu Sans Mono',consolas,'Courier New',monospace\"><span style=\"font-weight: bold\">Model: \"sequential\"</span>\n",
              "</pre>\n"
            ],
            "text/plain": [
              "\u001b[1mModel: \"sequential\"\u001b[0m\n"
            ]
          },
          "metadata": {},
          "output_type": "display_data"
        },
        {
          "data": {
            "text/html": [
              "<pre style=\"white-space:pre;overflow-x:auto;line-height:normal;font-family:Menlo,'DejaVu Sans Mono',consolas,'Courier New',monospace\">┏━━━━━━━━━━━━━━━━━━━━━━━━━━━━━━━━━━━━━━┳━━━━━━━━━━━━━━━━━━━━━━━━━━━━━┳━━━━━━━━━━━━━━━━━┓\n",
              "┃<span style=\"font-weight: bold\"> Layer (type)                         </span>┃<span style=\"font-weight: bold\"> Output Shape                </span>┃<span style=\"font-weight: bold\">         Param # </span>┃\n",
              "┡━━━━━━━━━━━━━━━━━━━━━━━━━━━━━━━━━━━━━━╇━━━━━━━━━━━━━━━━━━━━━━━━━━━━━╇━━━━━━━━━━━━━━━━━┩\n",
              "│ lstm (<span style=\"color: #0087ff; text-decoration-color: #0087ff\">LSTM</span>)                          │ (<span style=\"color: #00d7ff; text-decoration-color: #00d7ff\">None</span>, <span style=\"color: #00af00; text-decoration-color: #00af00\">100</span>, <span style=\"color: #00af00; text-decoration-color: #00af00\">50</span>)             │          <span style=\"color: #00af00; text-decoration-color: #00af00\">10,400</span> │\n",
              "├──────────────────────────────────────┼─────────────────────────────┼─────────────────┤\n",
              "│ lstm_1 (<span style=\"color: #0087ff; text-decoration-color: #0087ff\">LSTM</span>)                        │ (<span style=\"color: #00d7ff; text-decoration-color: #00d7ff\">None</span>, <span style=\"color: #00af00; text-decoration-color: #00af00\">100</span>, <span style=\"color: #00af00; text-decoration-color: #00af00\">50</span>)             │          <span style=\"color: #00af00; text-decoration-color: #00af00\">20,200</span> │\n",
              "├──────────────────────────────────────┼─────────────────────────────┼─────────────────┤\n",
              "│ lstm_2 (<span style=\"color: #0087ff; text-decoration-color: #0087ff\">LSTM</span>)                        │ (<span style=\"color: #00d7ff; text-decoration-color: #00d7ff\">None</span>, <span style=\"color: #00af00; text-decoration-color: #00af00\">50</span>)                  │          <span style=\"color: #00af00; text-decoration-color: #00af00\">20,200</span> │\n",
              "├──────────────────────────────────────┼─────────────────────────────┼─────────────────┤\n",
              "│ dense (<span style=\"color: #0087ff; text-decoration-color: #0087ff\">Dense</span>)                        │ (<span style=\"color: #00d7ff; text-decoration-color: #00d7ff\">None</span>, <span style=\"color: #00af00; text-decoration-color: #00af00\">1</span>)                   │              <span style=\"color: #00af00; text-decoration-color: #00af00\">51</span> │\n",
              "└──────────────────────────────────────┴─────────────────────────────┴─────────────────┘\n",
              "</pre>\n"
            ],
            "text/plain": [
              "┏━━━━━━━━━━━━━━━━━━━━━━━━━━━━━━━━━━━━━━┳━━━━━━━━━━━━━━━━━━━━━━━━━━━━━┳━━━━━━━━━━━━━━━━━┓\n",
              "┃\u001b[1m \u001b[0m\u001b[1mLayer (type)                        \u001b[0m\u001b[1m \u001b[0m┃\u001b[1m \u001b[0m\u001b[1mOutput Shape               \u001b[0m\u001b[1m \u001b[0m┃\u001b[1m \u001b[0m\u001b[1m        Param #\u001b[0m\u001b[1m \u001b[0m┃\n",
              "┡━━━━━━━━━━━━━━━━━━━━━━━━━━━━━━━━━━━━━━╇━━━━━━━━━━━━━━━━━━━━━━━━━━━━━╇━━━━━━━━━━━━━━━━━┩\n",
              "│ lstm (\u001b[38;5;33mLSTM\u001b[0m)                          │ (\u001b[38;5;45mNone\u001b[0m, \u001b[38;5;34m100\u001b[0m, \u001b[38;5;34m50\u001b[0m)             │          \u001b[38;5;34m10,400\u001b[0m │\n",
              "├──────────────────────────────────────┼─────────────────────────────┼─────────────────┤\n",
              "│ lstm_1 (\u001b[38;5;33mLSTM\u001b[0m)                        │ (\u001b[38;5;45mNone\u001b[0m, \u001b[38;5;34m100\u001b[0m, \u001b[38;5;34m50\u001b[0m)             │          \u001b[38;5;34m20,200\u001b[0m │\n",
              "├──────────────────────────────────────┼─────────────────────────────┼─────────────────┤\n",
              "│ lstm_2 (\u001b[38;5;33mLSTM\u001b[0m)                        │ (\u001b[38;5;45mNone\u001b[0m, \u001b[38;5;34m50\u001b[0m)                  │          \u001b[38;5;34m20,200\u001b[0m │\n",
              "├──────────────────────────────────────┼─────────────────────────────┼─────────────────┤\n",
              "│ dense (\u001b[38;5;33mDense\u001b[0m)                        │ (\u001b[38;5;45mNone\u001b[0m, \u001b[38;5;34m1\u001b[0m)                   │              \u001b[38;5;34m51\u001b[0m │\n",
              "└──────────────────────────────────────┴─────────────────────────────┴─────────────────┘\n"
            ]
          },
          "metadata": {},
          "output_type": "display_data"
        },
        {
          "data": {
            "text/html": [
              "<pre style=\"white-space:pre;overflow-x:auto;line-height:normal;font-family:Menlo,'DejaVu Sans Mono',consolas,'Courier New',monospace\"><span style=\"font-weight: bold\"> Total params: </span><span style=\"color: #00af00; text-decoration-color: #00af00\">50,851</span> (198.64 KB)\n",
              "</pre>\n"
            ],
            "text/plain": [
              "\u001b[1m Total params: \u001b[0m\u001b[38;5;34m50,851\u001b[0m (198.64 KB)\n"
            ]
          },
          "metadata": {},
          "output_type": "display_data"
        },
        {
          "data": {
            "text/html": [
              "<pre style=\"white-space:pre;overflow-x:auto;line-height:normal;font-family:Menlo,'DejaVu Sans Mono',consolas,'Courier New',monospace\"><span style=\"font-weight: bold\"> Trainable params: </span><span style=\"color: #00af00; text-decoration-color: #00af00\">50,851</span> (198.64 KB)\n",
              "</pre>\n"
            ],
            "text/plain": [
              "\u001b[1m Trainable params: \u001b[0m\u001b[38;5;34m50,851\u001b[0m (198.64 KB)\n"
            ]
          },
          "metadata": {},
          "output_type": "display_data"
        },
        {
          "data": {
            "text/html": [
              "<pre style=\"white-space:pre;overflow-x:auto;line-height:normal;font-family:Menlo,'DejaVu Sans Mono',consolas,'Courier New',monospace\"><span style=\"font-weight: bold\"> Non-trainable params: </span><span style=\"color: #00af00; text-decoration-color: #00af00\">0</span> (0.00 B)\n",
              "</pre>\n"
            ],
            "text/plain": [
              "\u001b[1m Non-trainable params: \u001b[0m\u001b[38;5;34m0\u001b[0m (0.00 B)\n"
            ]
          },
          "metadata": {},
          "output_type": "display_data"
        }
      ],
      "source": [
        "model.summary()"
      ]
    },
    {
      "cell_type": "code",
      "execution_count": 51,
      "metadata": {
        "colab": {
          "base_uri": "https://localhost:8080/",
          "height": 257
        },
        "id": "5CDcnbN7af9p",
        "outputId": "0281b79d-b6ec-4a71-85c7-274f4c908ab7"
      },
      "outputs": [
        {
          "data": {
            "text/html": [
              "<pre style=\"white-space:pre;overflow-x:auto;line-height:normal;font-family:Menlo,'DejaVu Sans Mono',consolas,'Courier New',monospace\"><span style=\"font-weight: bold\">Model: \"sequential\"</span>\n",
              "</pre>\n"
            ],
            "text/plain": [
              "\u001b[1mModel: \"sequential\"\u001b[0m\n"
            ]
          },
          "metadata": {},
          "output_type": "display_data"
        },
        {
          "data": {
            "text/html": [
              "<pre style=\"white-space:pre;overflow-x:auto;line-height:normal;font-family:Menlo,'DejaVu Sans Mono',consolas,'Courier New',monospace\">┏━━━━━━━━━━━━━━━━━━━━━━━━━━━━━━━━━━━━━━┳━━━━━━━━━━━━━━━━━━━━━━━━━━━━━┳━━━━━━━━━━━━━━━━━┓\n",
              "┃<span style=\"font-weight: bold\"> Layer (type)                         </span>┃<span style=\"font-weight: bold\"> Output Shape                </span>┃<span style=\"font-weight: bold\">         Param # </span>┃\n",
              "┡━━━━━━━━━━━━━━━━━━━━━━━━━━━━━━━━━━━━━━╇━━━━━━━━━━━━━━━━━━━━━━━━━━━━━╇━━━━━━━━━━━━━━━━━┩\n",
              "│ lstm (<span style=\"color: #0087ff; text-decoration-color: #0087ff\">LSTM</span>)                          │ (<span style=\"color: #00d7ff; text-decoration-color: #00d7ff\">None</span>, <span style=\"color: #00af00; text-decoration-color: #00af00\">100</span>, <span style=\"color: #00af00; text-decoration-color: #00af00\">50</span>)             │          <span style=\"color: #00af00; text-decoration-color: #00af00\">10,400</span> │\n",
              "├──────────────────────────────────────┼─────────────────────────────┼─────────────────┤\n",
              "│ lstm_1 (<span style=\"color: #0087ff; text-decoration-color: #0087ff\">LSTM</span>)                        │ (<span style=\"color: #00d7ff; text-decoration-color: #00d7ff\">None</span>, <span style=\"color: #00af00; text-decoration-color: #00af00\">100</span>, <span style=\"color: #00af00; text-decoration-color: #00af00\">50</span>)             │          <span style=\"color: #00af00; text-decoration-color: #00af00\">20,200</span> │\n",
              "├──────────────────────────────────────┼─────────────────────────────┼─────────────────┤\n",
              "│ lstm_2 (<span style=\"color: #0087ff; text-decoration-color: #0087ff\">LSTM</span>)                        │ (<span style=\"color: #00d7ff; text-decoration-color: #00d7ff\">None</span>, <span style=\"color: #00af00; text-decoration-color: #00af00\">50</span>)                  │          <span style=\"color: #00af00; text-decoration-color: #00af00\">20,200</span> │\n",
              "├──────────────────────────────────────┼─────────────────────────────┼─────────────────┤\n",
              "│ dense (<span style=\"color: #0087ff; text-decoration-color: #0087ff\">Dense</span>)                        │ (<span style=\"color: #00d7ff; text-decoration-color: #00d7ff\">None</span>, <span style=\"color: #00af00; text-decoration-color: #00af00\">1</span>)                   │              <span style=\"color: #00af00; text-decoration-color: #00af00\">51</span> │\n",
              "└──────────────────────────────────────┴─────────────────────────────┴─────────────────┘\n",
              "</pre>\n"
            ],
            "text/plain": [
              "┏━━━━━━━━━━━━━━━━━━━━━━━━━━━━━━━━━━━━━━┳━━━━━━━━━━━━━━━━━━━━━━━━━━━━━┳━━━━━━━━━━━━━━━━━┓\n",
              "┃\u001b[1m \u001b[0m\u001b[1mLayer (type)                        \u001b[0m\u001b[1m \u001b[0m┃\u001b[1m \u001b[0m\u001b[1mOutput Shape               \u001b[0m\u001b[1m \u001b[0m┃\u001b[1m \u001b[0m\u001b[1m        Param #\u001b[0m\u001b[1m \u001b[0m┃\n",
              "┡━━━━━━━━━━━━━━━━━━━━━━━━━━━━━━━━━━━━━━╇━━━━━━━━━━━━━━━━━━━━━━━━━━━━━╇━━━━━━━━━━━━━━━━━┩\n",
              "│ lstm (\u001b[38;5;33mLSTM\u001b[0m)                          │ (\u001b[38;5;45mNone\u001b[0m, \u001b[38;5;34m100\u001b[0m, \u001b[38;5;34m50\u001b[0m)             │          \u001b[38;5;34m10,400\u001b[0m │\n",
              "├──────────────────────────────────────┼─────────────────────────────┼─────────────────┤\n",
              "│ lstm_1 (\u001b[38;5;33mLSTM\u001b[0m)                        │ (\u001b[38;5;45mNone\u001b[0m, \u001b[38;5;34m100\u001b[0m, \u001b[38;5;34m50\u001b[0m)             │          \u001b[38;5;34m20,200\u001b[0m │\n",
              "├──────────────────────────────────────┼─────────────────────────────┼─────────────────┤\n",
              "│ lstm_2 (\u001b[38;5;33mLSTM\u001b[0m)                        │ (\u001b[38;5;45mNone\u001b[0m, \u001b[38;5;34m50\u001b[0m)                  │          \u001b[38;5;34m20,200\u001b[0m │\n",
              "├──────────────────────────────────────┼─────────────────────────────┼─────────────────┤\n",
              "│ dense (\u001b[38;5;33mDense\u001b[0m)                        │ (\u001b[38;5;45mNone\u001b[0m, \u001b[38;5;34m1\u001b[0m)                   │              \u001b[38;5;34m51\u001b[0m │\n",
              "└──────────────────────────────────────┴─────────────────────────────┴─────────────────┘\n"
            ]
          },
          "metadata": {},
          "output_type": "display_data"
        },
        {
          "data": {
            "text/html": [
              "<pre style=\"white-space:pre;overflow-x:auto;line-height:normal;font-family:Menlo,'DejaVu Sans Mono',consolas,'Courier New',monospace\"><span style=\"font-weight: bold\"> Total params: </span><span style=\"color: #00af00; text-decoration-color: #00af00\">50,851</span> (198.64 KB)\n",
              "</pre>\n"
            ],
            "text/plain": [
              "\u001b[1m Total params: \u001b[0m\u001b[38;5;34m50,851\u001b[0m (198.64 KB)\n"
            ]
          },
          "metadata": {},
          "output_type": "display_data"
        },
        {
          "data": {
            "text/html": [
              "<pre style=\"white-space:pre;overflow-x:auto;line-height:normal;font-family:Menlo,'DejaVu Sans Mono',consolas,'Courier New',monospace\"><span style=\"font-weight: bold\"> Trainable params: </span><span style=\"color: #00af00; text-decoration-color: #00af00\">50,851</span> (198.64 KB)\n",
              "</pre>\n"
            ],
            "text/plain": [
              "\u001b[1m Trainable params: \u001b[0m\u001b[38;5;34m50,851\u001b[0m (198.64 KB)\n"
            ]
          },
          "metadata": {},
          "output_type": "display_data"
        },
        {
          "data": {
            "text/html": [
              "<pre style=\"white-space:pre;overflow-x:auto;line-height:normal;font-family:Menlo,'DejaVu Sans Mono',consolas,'Courier New',monospace\"><span style=\"font-weight: bold\"> Non-trainable params: </span><span style=\"color: #00af00; text-decoration-color: #00af00\">0</span> (0.00 B)\n",
              "</pre>\n"
            ],
            "text/plain": [
              "\u001b[1m Non-trainable params: \u001b[0m\u001b[38;5;34m0\u001b[0m (0.00 B)\n"
            ]
          },
          "metadata": {},
          "output_type": "display_data"
        }
      ],
      "source": [
        "model.summary()"
      ]
    },
    {
      "cell_type": "code",
      "execution_count": null,
      "metadata": {
        "id": "b1PZ2SDKaf9p"
      },
      "outputs": [],
      "source": []
    },
    {
      "cell_type": "code",
      "execution_count": 52,
      "metadata": {
        "colab": {
          "base_uri": "https://localhost:8080/"
        },
        "id": "wbpp2PBkaf9q",
        "outputId": "3c02b23f-ba33-4262-a8ca-48fd27c02bd5"
      },
      "outputs": [
        {
          "name": "stdout",
          "output_type": "stream",
          "text": [
            "Epoch 1/20\n",
            "\u001b[1m9/9\u001b[0m \u001b[32m━━━━━━━━━━━━━━━━━━━━\u001b[0m\u001b[37m\u001b[0m \u001b[1m9s\u001b[0m 371ms/step - loss: 0.0473 - val_loss: 0.0154\n",
            "Epoch 2/20\n",
            "\u001b[1m9/9\u001b[0m \u001b[32m━━━━━━━━━━━━━━━━━━━━\u001b[0m\u001b[37m\u001b[0m \u001b[1m2s\u001b[0m 215ms/step - loss: 0.0059 - val_loss: 0.0501\n",
            "Epoch 3/20\n",
            "\u001b[1m9/9\u001b[0m \u001b[32m━━━━━━━━━━━━━━━━━━━━\u001b[0m\u001b[37m\u001b[0m \u001b[1m2s\u001b[0m 198ms/step - loss: 0.0043 - val_loss: 0.0196\n",
            "Epoch 4/20\n",
            "\u001b[1m9/9\u001b[0m \u001b[32m━━━━━━━━━━━━━━━━━━━━\u001b[0m\u001b[37m\u001b[0m \u001b[1m2s\u001b[0m 195ms/step - loss: 0.0032 - val_loss: 0.0268\n",
            "Epoch 5/20\n",
            "\u001b[1m9/9\u001b[0m \u001b[32m━━━━━━━━━━━━━━━━━━━━\u001b[0m\u001b[37m\u001b[0m \u001b[1m3s\u001b[0m 197ms/step - loss: 0.0030 - val_loss: 0.0092\n",
            "Epoch 6/20\n",
            "\u001b[1m9/9\u001b[0m \u001b[32m━━━━━━━━━━━━━━━━━━━━\u001b[0m\u001b[37m\u001b[0m \u001b[1m3s\u001b[0m 256ms/step - loss: 0.0029 - val_loss: 0.0065\n",
            "Epoch 7/20\n",
            "\u001b[1m9/9\u001b[0m \u001b[32m━━━━━━━━━━━━━━━━━━━━\u001b[0m\u001b[37m\u001b[0m \u001b[1m3s\u001b[0m 242ms/step - loss: 0.0025 - val_loss: 0.0071\n",
            "Epoch 8/20\n",
            "\u001b[1m9/9\u001b[0m \u001b[32m━━━━━━━━━━━━━━━━━━━━\u001b[0m\u001b[37m\u001b[0m \u001b[1m2s\u001b[0m 196ms/step - loss: 0.0026 - val_loss: 0.0044\n",
            "Epoch 9/20\n",
            "\u001b[1m9/9\u001b[0m \u001b[32m━━━━━━━━━━━━━━━━━━━━\u001b[0m\u001b[37m\u001b[0m \u001b[1m3s\u001b[0m 192ms/step - loss: 0.0024 - val_loss: 0.0042\n",
            "Epoch 10/20\n",
            "\u001b[1m9/9\u001b[0m \u001b[32m━━━━━━━━━━━━━━━━━━━━\u001b[0m\u001b[37m\u001b[0m \u001b[1m3s\u001b[0m 201ms/step - loss: 0.0023 - val_loss: 0.0044\n",
            "Epoch 11/20\n",
            "\u001b[1m9/9\u001b[0m \u001b[32m━━━━━━━━━━━━━━━━━━━━\u001b[0m\u001b[37m\u001b[0m \u001b[1m2s\u001b[0m 194ms/step - loss: 0.0020 - val_loss: 0.0058\n",
            "Epoch 12/20\n",
            "\u001b[1m9/9\u001b[0m \u001b[32m━━━━━━━━━━━━━━━━━━━━\u001b[0m\u001b[37m\u001b[0m \u001b[1m3s\u001b[0m 348ms/step - loss: 0.0022 - val_loss: 0.0070\n",
            "Epoch 13/20\n",
            "\u001b[1m9/9\u001b[0m \u001b[32m━━━━━━━━━━━━━━━━━━━━\u001b[0m\u001b[37m\u001b[0m \u001b[1m4s\u001b[0m 191ms/step - loss: 0.0023 - val_loss: 0.0050\n",
            "Epoch 14/20\n",
            "\u001b[1m9/9\u001b[0m \u001b[32m━━━━━━━━━━━━━━━━━━━━\u001b[0m\u001b[37m\u001b[0m \u001b[1m2s\u001b[0m 195ms/step - loss: 0.0020 - val_loss: 0.0055\n",
            "Epoch 15/20\n",
            "\u001b[1m9/9\u001b[0m \u001b[32m━━━━━━━━━━━━━━━━━━━━\u001b[0m\u001b[37m\u001b[0m \u001b[1m3s\u001b[0m 198ms/step - loss: 0.0020 - val_loss: 0.0030\n",
            "Epoch 16/20\n",
            "\u001b[1m9/9\u001b[0m \u001b[32m━━━━━━━━━━━━━━━━━━━━\u001b[0m\u001b[37m\u001b[0m \u001b[1m3s\u001b[0m 284ms/step - loss: 0.0020 - val_loss: 0.0089\n",
            "Epoch 17/20\n",
            "\u001b[1m9/9\u001b[0m \u001b[32m━━━━━━━━━━━━━━━━━━━━\u001b[0m\u001b[37m\u001b[0m \u001b[1m2s\u001b[0m 235ms/step - loss: 0.0020 - val_loss: 0.0073\n",
            "Epoch 18/20\n",
            "\u001b[1m9/9\u001b[0m \u001b[32m━━━━━━━━━━━━━━━━━━━━\u001b[0m\u001b[37m\u001b[0m \u001b[1m2s\u001b[0m 195ms/step - loss: 0.0020 - val_loss: 0.0029\n",
            "Epoch 19/20\n",
            "\u001b[1m9/9\u001b[0m \u001b[32m━━━━━━━━━━━━━━━━━━━━\u001b[0m\u001b[37m\u001b[0m \u001b[1m2s\u001b[0m 189ms/step - loss: 0.0017 - val_loss: 0.0026\n",
            "Epoch 20/20\n",
            "\u001b[1m9/9\u001b[0m \u001b[32m━━━━━━━━━━━━━━━━━━━━\u001b[0m\u001b[37m\u001b[0m \u001b[1m3s\u001b[0m 202ms/step - loss: 0.0018 - val_loss: 0.0025\n"
          ]
        },
        {
          "data": {
            "text/plain": [
              "<keras.src.callbacks.history.History at 0x789ff568e210>"
            ]
          },
          "execution_count": 52,
          "metadata": {},
          "output_type": "execute_result"
        }
      ],
      "source": [
        "model.fit(X_train,y_train,validation_data=(X_test,ytest),epochs=20,batch_size=64,verbose=1)"
      ]
    },
    {
      "cell_type": "code",
      "execution_count": 53,
      "metadata": {
        "id": "3T3EiheMaf9q"
      },
      "outputs": [],
      "source": [
        "import tensorflow as tf"
      ]
    },
    {
      "cell_type": "code",
      "execution_count": 54,
      "metadata": {
        "colab": {
          "base_uri": "https://localhost:8080/",
          "height": 36
        },
        "id": "H-lp6Q-waf9r",
        "outputId": "283f6ac0-2371-401d-cff2-00dae67c347b"
      },
      "outputs": [
        {
          "data": {
            "application/vnd.google.colaboratory.intrinsic+json": {
              "type": "string"
            },
            "text/plain": [
              "'2.18.0'"
            ]
          },
          "execution_count": 54,
          "metadata": {},
          "output_type": "execute_result"
        }
      ],
      "source": [
        "tf.__version__"
      ]
    },
    {
      "cell_type": "code",
      "execution_count": 71,
      "metadata": {
        "colab": {
          "base_uri": "https://localhost:8080/"
        },
        "id": "VDYCqRO6af9s",
        "outputId": "c3eebb65-cae6-469a-d561-4331c0bec669"
      },
      "outputs": [
        {
          "name": "stdout",
          "output_type": "stream",
          "text": [
            "\u001b[1m18/18\u001b[0m \u001b[32m━━━━━━━━━━━━━━━━━━━━\u001b[0m\u001b[37m\u001b[0m \u001b[1m1s\u001b[0m 35ms/step\n",
            "\u001b[1m9/9\u001b[0m \u001b[32m━━━━━━━━━━━━━━━━━━━━\u001b[0m\u001b[37m\u001b[0m \u001b[1m1s\u001b[0m 59ms/step\n"
          ]
        }
      ],
      "source": [
        "### Lets Do the prediction and check performance metrics\n",
        "train_predict=model.predict(X_train)\n",
        "test_predict=model.predict(X_test)"
      ]
    },
    {
      "cell_type": "code",
      "execution_count": 72,
      "metadata": {
        "id": "flsE3Pi4af9s"
      },
      "outputs": [],
      "source": [
        "##Transformback to original form\n",
        "train_predict=scaler.inverse_transform(train_predict)\n",
        "test_predict=scaler.inverse_transform(test_predict)"
      ]
    },
    {
      "cell_type": "code",
      "execution_count": 73,
      "metadata": {
        "colab": {
          "base_uri": "https://localhost:8080/"
        },
        "id": "gB5vJdNjaf9s",
        "outputId": "343fb113-a19f-483d-914b-cff8f0f4eef3"
      },
      "outputs": [
        {
          "data": {
            "text/plain": [
              "158.90227939039693"
            ]
          },
          "execution_count": 73,
          "metadata": {},
          "output_type": "execute_result"
        }
      ],
      "source": [
        "### Calculate RMSE performance metrics\n",
        "import math\n",
        "from sklearn.metrics import mean_squared_error\n",
        "math.sqrt(mean_squared_error(y_train,train_predict))"
      ]
    },
    {
      "cell_type": "code",
      "execution_count": 74,
      "metadata": {
        "colab": {
          "base_uri": "https://localhost:8080/"
        },
        "id": "x-HenWOWaf9t",
        "outputId": "f7ddd438-9585-452b-9db6-53cd9ac72ba3"
      },
      "outputs": [
        {
          "data": {
            "text/plain": [
              "213.23630223001584"
            ]
          },
          "execution_count": 74,
          "metadata": {},
          "output_type": "execute_result"
        }
      ],
      "source": [
        "### Test Data RMSE\n",
        "math.sqrt(mean_squared_error(ytest,test_predict))"
      ]
    },
    {
      "cell_type": "code",
      "execution_count": 68,
      "metadata": {
        "colab": {
          "base_uri": "https://localhost:8080/",
          "height": 499
        },
        "id": "JM_CWHNtaf9t",
        "outputId": "79e54da5-3032-4de7-9924-9e7e3483e314"
      },
      "outputs": [
        {
          "name": "stdout",
          "output_type": "stream",
          "text": [
            "\u001b[1m18/18\u001b[0m \u001b[32m━━━━━━━━━━━━━━━━━━━━\u001b[0m\u001b[37m\u001b[0m \u001b[1m1s\u001b[0m 41ms/step\n",
            "\u001b[1m9/9\u001b[0m \u001b[32m━━━━━━━━━━━━━━━━━━━━\u001b[0m\u001b[37m\u001b[0m \u001b[1m0s\u001b[0m 34ms/step\n",
            "Train RMSE: 158.90227939039693\n",
            "Test RMSE: 213.23630223001584\n"
          ]
        },
        {
          "data": {
            "image/png": "[encoded data removed]",
            "text/plain": [
              "<Figure size 640x480 with 1 Axes>"
            ]
          },
          "metadata": {},
          "output_type": "display_data"
        }
      ],
      "source": [
        "import numpy as np\n",
        "import matplotlib.pyplot as plt\n",
        "import math\n",
        "from sklearn.metrics import mean_squared_error\n",
        "\n",
        "# Assuming df1, X_train, X_test, y_train, ytest, scaler, look_back, and model are properly initialized\n",
        "\n",
        "# Perform predictions\n",
        "train_predict = model.predict(X_train)\n",
        "test_predict = model.predict(X_test)\n",
        "\n",
        "# Transform predictions back to original form\n",
        "train_predict = scaler.inverse_transform(train_predict)\n",
        "test_predict = scaler.inverse_transform(test_predict)\n",
        "\n",
        "# Calculate RMSE performance metrics\n",
        "train_rmse = math.sqrt(mean_squared_error(y_train, train_predict))\n",
        "test_rmse = math.sqrt(mean_squared_error(ytest, test_predict))\n",
        "print(f'Train RMSE: {train_rmse}')\n",
        "print(f'Test RMSE: {test_rmse}')\n",
        "\n",
        "# Convert df1 back to its original scale\n",
        "actual_data = scaler.inverse_transform(df1)\n",
        "\n",
        "# Shift train predictions for plotting\n",
        "trainPredictPlot = np.empty_like(df1)\n",
        "trainPredictPlot[:, :] = np.nan\n",
        "trainPredictPlot[look_back:len(train_predict)+look_back, :] = train_predict\n",
        "\n",
        "# Shift test predictions for plotting\n",
        "testPredictPlot = np.empty_like(df1)\n",
        "testPredictPlot[:, :] = np.nan\n",
        "testPredictPlot[len(train_predict)+(look_back*2)+1:len(df1)-1, :] = test_predict\n",
        "\n",
        "# Plot actual data correctly\n",
        "plt.plot(actual_data, label=\"Actual Data\")\n",
        "\n",
        "# Plot predictions\n",
        "plt.plot(trainPredictPlot, label=\"Train Predictions\")\n",
        "plt.plot(testPredictPlot, label=\"Test Predictions\")\n",
        "\n",
        "plt.legend()\n",
        "plt.show()"
      ]
    },
    {
      "cell_type": "code",
      "execution_count": 75,
      "metadata": {
        "colab": {
          "base_uri": "https://localhost:8080/"
        },
        "id": "SpRNm3CJaf9u",
        "outputId": "a8bfa9f9-2e16-4ff7-b43f-fbdc9dc4f385"
      },
      "outputs": [
        {
          "data": {
            "text/plain": [
              "364"
            ]
          },
          "execution_count": 75,
          "metadata": {},
          "output_type": "execute_result"
        }
      ],
      "source": [
        "len(test_data)"
      ]
    },
    {
      "cell_type": "code",
      "execution_count": 76,
      "metadata": {
        "colab": {
          "base_uri": "https://localhost:8080/"
        },
        "id": "YZMPH41uaf99",
        "outputId": "3f7c4327-8593-47c3-efea-5e1fd3fe5c7a"
      },
      "outputs": [
        {
          "data": {
            "text/plain": [
              "(1, 100)"
            ]
          },
          "execution_count": 76,
          "metadata": {},
          "output_type": "execute_result"
        }
      ],
      "source": [
        "x_input=test_data[264:].reshape(1,-1)\n",
        "x_input.shape\n"
      ]
    },
    {
      "cell_type": "code",
      "execution_count": null,
      "metadata": {
        "id": "oCatIZujaf9-"
      },
      "outputs": [],
      "source": []
    },
    {
      "cell_type": "code",
      "execution_count": null,
      "metadata": {
        "id": "9Syf1qX9af9-"
      },
      "outputs": [],
      "source": []
    },
    {
      "cell_type": "code",
      "execution_count": 77,
      "metadata": {
        "id": "A-bmVNN5af9_"
      },
      "outputs": [],
      "source": [
        "temp_input=list(x_input)\n",
        "temp_input=temp_input[0].tolist()"
      ]
    },
    {
      "cell_type": "code",
      "execution_count": 78,
      "metadata": {
        "colab": {
          "base_uri": "https://localhost:8080/"
        },
        "id": "g1JuckzIaf9_",
        "outputId": "3549b676-e583-4422-eaea-793302854c22"
      },
      "outputs": [
        {
          "data": {
            "text/plain": [
              "[0.7810879013037993,\n",
              " 0.8176082994532455,\n",
              " 0.7700126174120289,\n",
              " 0.7740081312210852,\n",
              " 0.7662273938034488,\n",
              " 0.7741483246880697,\n",
              " 0.7383288938735456,\n",
              " 0.7669283611383712,\n",
              " 0.7933548296649376,\n",
              " 0.7898499929903268,\n",
              " 0.7794055796999863,\n",
              " 0.8056918547595685,\n",
              " 0.8235665218000842,\n",
              " 0.8090564979671949,\n",
              " 0.8116500771064069,\n",
              " 0.8316276461516895,\n",
              " 0.8420019627085379,\n",
              " 0.8376559652320205,\n",
              " 0.8019066311509885,\n",
              " 0.8005747932146362,\n",
              " 0.8064629188279827,\n",
              " 0.8204121687929343,\n",
              " 0.8223047805972242,\n",
              " 0.7972802467405019,\n",
              " 0.7679097154072622,\n",
              " 0.7468806953595962,\n",
              " 0.7405719893452966,\n",
              " 0.750665918968176,\n",
              " 0.7455488574232442,\n",
              " 0.7789149025655405,\n",
              " 0.7752698724239452,\n",
              " 0.7561334641805691,\n",
              " 0.7561334641805691,\n",
              " 0.7623720734613769,\n",
              " 0.7841020608439647,\n",
              " 0.7615309126594701,\n",
              " 0.7827001261741205,\n",
              " 0.7845226412449181,\n",
              " 0.7895696060563578,\n",
              " 0.7862049628487314,\n",
              " 0.7956680218701809,\n",
              " 0.8166970419178469,\n",
              " 0.8320482265526429,\n",
              " 0.831136969017244,\n",
              " 0.8479601850553767,\n",
              " 0.863802046824618,\n",
              " 0.8852516472732374,\n",
              " 0.887775129678957,\n",
              " 0.8879854198794338,\n",
              " 0.8865834852095894,\n",
              " 0.9139913080050471,\n",
              " 0.9211411748212536,\n",
              " 0.9121687929342496,\n",
              " 0.9224730127576056,\n",
              " 0.9236646572269734,\n",
              " 0.9440628066732092,\n",
              " 0.9611664096453106,\n",
              " 0.9231038833590356,\n",
              " 0.9353007149866818,\n",
              " 0.968246179728025,\n",
              " 0.9737137249404181,\n",
              " 0.9942520678536381,\n",
              " 1.0,\n",
              " 0.975956820412169,\n",
              " 0.9521940277583066,\n",
              " 0.9397168091966915,\n",
              " 0.8936632552923035,\n",
              " 0.890228515351185,\n",
              " 0.9017243796439088,\n",
              " 0.8821673909995796,\n",
              " 0.8856021309406982,\n",
              " 0.8445955418477499,\n",
              " 0.8274218421421563,\n",
              " 0.8195710079910278,\n",
              " 0.8517454086639563,\n",
              " 0.7843824477779336,\n",
              " 0.7964390859385954,\n",
              " 0.7449880835553063,\n",
              " 0.7533295948408806,\n",
              " 0.7521379503715128,\n",
              " 0.7459694378241976,\n",
              " 0.7955979251366888,\n",
              " 0.854479181270153,\n",
              " 0.862189821954297,\n",
              " 0.8497827001261743,\n",
              " 0.8386373195009115,\n",
              " 0.7826300294406282,\n",
              " 0.8162063647834014,\n",
              " 0.8138931725781581,\n",
              " 0.8191504275900744,\n",
              " 0.7799663535679239,\n",
              " 0.7801065470349083,\n",
              " 0.8149446235805412,\n",
              " 0.8447357353147346,\n",
              " 0.8774008131221086,\n",
              " 0.8989205103042198,\n",
              " 0.8980092527688212,\n",
              " 0.90081312210851,\n",
              " 0.907542408523763,\n",
              " 0.905579699985981]"
            ]
          },
          "execution_count": 78,
          "metadata": {},
          "output_type": "execute_result"
        }
      ],
      "source": [
        "temp_input"
      ]
    },
    {
      "cell_type": "code",
      "execution_count": 79,
      "metadata": {
        "colab": {
          "base_uri": "https://localhost:8080/"
        },
        "id": "l6sZct_uaf9_",
        "outputId": "ce4f32da-aa49-4b35-8316-09fe4179de79"
      },
      "outputs": [
        {
          "name": "stdout",
          "output_type": "stream",
          "text": [
            "[0.87528425]\n",
            "101\n",
            "1 day input [0.8176083  0.77001262 0.77400813 0.76622739 0.77414832 0.73832889\n",
            " 0.76692836 0.79335483 0.78984999 0.77940558 0.80569185 0.82356652\n",
            " 0.8090565  0.81165008 0.83162765 0.84200196 0.83765597 0.80190663\n",
            " 0.80057479 0.80646292 0.82041217 0.82230478 0.79728025 0.76790972\n",
            " 0.7468807  0.74057199 0.75066592 0.74554886 0.7789149  0.77526987\n",
            " 0.75613346 0.75613346 0.76237207 0.78410206 0.76153091 0.78270013\n",
            " 0.78452264 0.78956961 0.78620496 0.79566802 0.81669704 0.83204823\n",
            " 0.83113697 0.84796019 0.86380205 0.88525165 0.88777513 0.88798542\n",
            " 0.88658349 0.91399131 0.92114117 0.91216879 0.92247301 0.92366466\n",
            " 0.94406281 0.96116641 0.92310388 0.93530071 0.96824618 0.97371372\n",
            " 0.99425207 1.         0.97595682 0.95219403 0.93971681 0.89366326\n",
            " 0.89022852 0.90172438 0.88216739 0.88560213 0.84459554 0.82742184\n",
            " 0.81957101 0.85174541 0.78438245 0.79643909 0.74498808 0.75332959\n",
            " 0.75213795 0.74596944 0.79559793 0.85447918 0.86218982 0.8497827\n",
            " 0.83863732 0.78263003 0.81620636 0.81389317 0.81915043 0.77996635\n",
            " 0.78010655 0.81494462 0.84473574 0.87740081 0.89892051 0.89800925\n",
            " 0.90081312 0.90754241 0.9055797  0.87528425]\n",
            "1 day output [[0.8878112]]\n",
            "2 day input [0.77001262 0.77400813 0.76622739 0.77414832 0.73832889 0.76692836\n",
            " 0.79335483 0.78984999 0.77940558 0.80569185 0.82356652 0.8090565\n",
            " 0.81165008 0.83162765 0.84200196 0.83765597 0.80190663 0.80057479\n",
            " 0.80646292 0.82041217 0.82230478 0.79728025 0.76790972 0.7468807\n",
            " 0.74057199 0.75066592 0.74554886 0.7789149  0.77526987 0.75613346\n",
            " 0.75613346 0.76237207 0.78410206 0.76153091 0.78270013 0.78452264\n",
            " 0.78956961 0.78620496 0.79566802 0.81669704 0.83204823 0.83113697\n",
            " 0.84796019 0.86380205 0.88525165 0.88777513 0.88798542 0.88658349\n",
            " 0.91399131 0.92114117 0.91216879 0.92247301 0.92366466 0.94406281\n",
            " 0.96116641 0.92310388 0.93530071 0.96824618 0.97371372 0.99425207\n",
            " 1.         0.97595682 0.95219403 0.93971681 0.89366326 0.89022852\n",
            " 0.90172438 0.88216739 0.88560213 0.84459554 0.82742184 0.81957101\n",
            " 0.85174541 0.78438245 0.79643909 0.74498808 0.75332959 0.75213795\n",
            " 0.74596944 0.79559793 0.85447918 0.86218982 0.8497827  0.83863732\n",
            " 0.78263003 0.81620636 0.81389317 0.81915043 0.77996635 0.78010655\n",
            " 0.81494462 0.84473574 0.87740081 0.89892051 0.89800925 0.90081312\n",
            " 0.90754241 0.9055797  0.87528425 0.88781118]\n",
            "2 day output [[0.89862615]]\n",
            "3 day input [0.77400813 0.76622739 0.77414832 0.73832889 0.76692836 0.79335483\n",
            " 0.78984999 0.77940558 0.80569185 0.82356652 0.8090565  0.81165008\n",
            " 0.83162765 0.84200196 0.83765597 0.80190663 0.80057479 0.80646292\n",
            " 0.82041217 0.82230478 0.79728025 0.76790972 0.7468807  0.74057199\n",
            " 0.75066592 0.74554886 0.7789149  0.77526987 0.75613346 0.75613346\n",
            " 0.76237207 0.78410206 0.76153091 0.78270013 0.78452264 0.78956961\n",
            " 0.78620496 0.79566802 0.81669704 0.83204823 0.83113697 0.84796019\n",
            " 0.86380205 0.88525165 0.88777513 0.88798542 0.88658349 0.91399131\n",
            " 0.92114117 0.91216879 0.92247301 0.92366466 0.94406281 0.96116641\n",
            " 0.92310388 0.93530071 0.96824618 0.97371372 0.99425207 1.\n",
            " 0.97595682 0.95219403 0.93971681 0.89366326 0.89022852 0.90172438\n",
            " 0.88216739 0.88560213 0.84459554 0.82742184 0.81957101 0.85174541\n",
            " 0.78438245 0.79643909 0.74498808 0.75332959 0.75213795 0.74596944\n",
            " 0.79559793 0.85447918 0.86218982 0.8497827  0.83863732 0.78263003\n",
            " 0.81620636 0.81389317 0.81915043 0.77996635 0.78010655 0.81494462\n",
            " 0.84473574 0.87740081 0.89892051 0.89800925 0.90081312 0.90754241\n",
            " 0.9055797  0.87528425 0.88781118 0.89862615]\n",
            "3 day output [[0.90768254]]\n",
            "4 day input [0.76622739 0.77414832 0.73832889 0.76692836 0.79335483 0.78984999\n",
            " 0.77940558 0.80569185 0.82356652 0.8090565  0.81165008 0.83162765\n",
            " 0.84200196 0.83765597 0.80190663 0.80057479 0.80646292 0.82041217\n",
            " 0.82230478 0.79728025 0.76790972 0.7468807  0.74057199 0.75066592\n",
            " 0.74554886 0.7789149  0.77526987 0.75613346 0.75613346 0.76237207\n",
            " 0.78410206 0.76153091 0.78270013 0.78452264 0.78956961 0.78620496\n",
            " 0.79566802 0.81669704 0.83204823 0.83113697 0.84796019 0.86380205\n",
            " 0.88525165 0.88777513 0.88798542 0.88658349 0.91399131 0.92114117\n",
            " 0.91216879 0.92247301 0.92366466 0.94406281 0.96116641 0.92310388\n",
            " 0.93530071 0.96824618 0.97371372 0.99425207 1.         0.97595682\n",
            " 0.95219403 0.93971681 0.89366326 0.89022852 0.90172438 0.88216739\n",
            " 0.88560213 0.84459554 0.82742184 0.81957101 0.85174541 0.78438245\n",
            " 0.79643909 0.74498808 0.75332959 0.75213795 0.74596944 0.79559793\n",
            " 0.85447918 0.86218982 0.8497827  0.83863732 0.78263003 0.81620636\n",
            " 0.81389317 0.81915043 0.77996635 0.78010655 0.81494462 0.84473574\n",
            " 0.87740081 0.89892051 0.89800925 0.90081312 0.90754241 0.9055797\n",
            " 0.87528425 0.88781118 0.89862615 0.90768254]\n",
            "4 day output [[0.9152033]]\n",
            "5 day input [0.77414832 0.73832889 0.76692836 0.79335483 0.78984999 0.77940558\n",
            " 0.80569185 0.82356652 0.8090565  0.81165008 0.83162765 0.84200196\n",
            " 0.83765597 0.80190663 0.80057479 0.80646292 0.82041217 0.82230478\n",
            " 0.79728025 0.76790972 0.7468807  0.74057199 0.75066592 0.74554886\n",
            " 0.7789149  0.77526987 0.75613346 0.75613346 0.76237207 0.78410206\n",
            " 0.76153091 0.78270013 0.78452264 0.78956961 0.78620496 0.79566802\n",
            " 0.81669704 0.83204823 0.83113697 0.84796019 0.86380205 0.88525165\n",
            " 0.88777513 0.88798542 0.88658349 0.91399131 0.92114117 0.91216879\n",
            " 0.92247301 0.92366466 0.94406281 0.96116641 0.92310388 0.93530071\n",
            " 0.96824618 0.97371372 0.99425207 1.         0.97595682 0.95219403\n",
            " 0.93971681 0.89366326 0.89022852 0.90172438 0.88216739 0.88560213\n",
            " 0.84459554 0.82742184 0.81957101 0.85174541 0.78438245 0.79643909\n",
            " 0.74498808 0.75332959 0.75213795 0.74596944 0.79559793 0.85447918\n",
            " 0.86218982 0.8497827  0.83863732 0.78263003 0.81620636 0.81389317\n",
            " 0.81915043 0.77996635 0.78010655 0.81494462 0.84473574 0.87740081\n",
            " 0.89892051 0.89800925 0.90081312 0.90754241 0.9055797  0.87528425\n",
            " 0.88781118 0.89862615 0.90768254 0.91520327]\n",
            "5 day output [[0.9215158]]\n",
            "6 day input [0.73832889 0.76692836 0.79335483 0.78984999 0.77940558 0.80569185\n",
            " 0.82356652 0.8090565  0.81165008 0.83162765 0.84200196 0.83765597\n",
            " 0.80190663 0.80057479 0.80646292 0.82041217 0.82230478 0.79728025\n",
            " 0.76790972 0.7468807  0.74057199 0.75066592 0.74554886 0.7789149\n",
            " 0.77526987 0.75613346 0.75613346 0.76237207 0.78410206 0.76153091\n",
            " 0.78270013 0.78452264 0.78956961 0.78620496 0.79566802 0.81669704\n",
            " 0.83204823 0.83113697 0.84796019 0.86380205 0.88525165 0.88777513\n",
            " 0.88798542 0.88658349 0.91399131 0.92114117 0.91216879 0.92247301\n",
            " 0.92366466 0.94406281 0.96116641 0.92310388 0.93530071 0.96824618\n",
            " 0.97371372 0.99425207 1.         0.97595682 0.95219403 0.93971681\n",
            " 0.89366326 0.89022852 0.90172438 0.88216739 0.88560213 0.84459554\n",
            " 0.82742184 0.81957101 0.85174541 0.78438245 0.79643909 0.74498808\n",
            " 0.75332959 0.75213795 0.74596944 0.79559793 0.85447918 0.86218982\n",
            " 0.8497827  0.83863732 0.78263003 0.81620636 0.81389317 0.81915043\n",
            " 0.77996635 0.78010655 0.81494462 0.84473574 0.87740081 0.89892051\n",
            " 0.89800925 0.90081312 0.90754241 0.9055797  0.87528425 0.88781118\n",
            " 0.89862615 0.90768254 0.91520327 0.92151582]\n",
            "6 day output [[0.92695105]]\n",
            "7 day input [0.76692836 0.79335483 0.78984999 0.77940558 0.80569185 0.82356652\n",
            " 0.8090565  0.81165008 0.83162765 0.84200196 0.83765597 0.80190663\n",
            " 0.80057479 0.80646292 0.82041217 0.82230478 0.79728025 0.76790972\n",
            " 0.7468807  0.74057199 0.75066592 0.74554886 0.7789149  0.77526987\n",
            " 0.75613346 0.75613346 0.76237207 0.78410206 0.76153091 0.78270013\n",
            " 0.78452264 0.78956961 0.78620496 0.79566802 0.81669704 0.83204823\n",
            " 0.83113697 0.84796019 0.86380205 0.88525165 0.88777513 0.88798542\n",
            " 0.88658349 0.91399131 0.92114117 0.91216879 0.92247301 0.92366466\n",
            " 0.94406281 0.96116641 0.92310388 0.93530071 0.96824618 0.97371372\n",
            " 0.99425207 1.         0.97595682 0.95219403 0.93971681 0.89366326\n",
            " 0.89022852 0.90172438 0.88216739 0.88560213 0.84459554 0.82742184\n",
            " 0.81957101 0.85174541 0.78438245 0.79643909 0.74498808 0.75332959\n",
            " 0.75213795 0.74596944 0.79559793 0.85447918 0.86218982 0.8497827\n",
            " 0.83863732 0.78263003 0.81620636 0.81389317 0.81915043 0.77996635\n",
            " 0.78010655 0.81494462 0.84473574 0.87740081 0.89892051 0.89800925\n",
            " 0.90081312 0.90754241 0.9055797  0.87528425 0.88781118 0.89862615\n",
            " 0.90768254 0.91520327 0.92151582 0.92695105]\n",
            "7 day output [[0.9317907]]\n",
            "8 day input [0.79335483 0.78984999 0.77940558 0.80569185 0.82356652 0.8090565\n",
            " 0.81165008 0.83162765 0.84200196 0.83765597 0.80190663 0.80057479\n",
            " 0.80646292 0.82041217 0.82230478 0.79728025 0.76790972 0.7468807\n",
            " 0.74057199 0.75066592 0.74554886 0.7789149  0.77526987 0.75613346\n",
            " 0.75613346 0.76237207 0.78410206 0.76153091 0.78270013 0.78452264\n",
            " 0.78956961 0.78620496 0.79566802 0.81669704 0.83204823 0.83113697\n",
            " 0.84796019 0.86380205 0.88525165 0.88777513 0.88798542 0.88658349\n",
            " 0.91399131 0.92114117 0.91216879 0.92247301 0.92366466 0.94406281\n",
            " 0.96116641 0.92310388 0.93530071 0.96824618 0.97371372 0.99425207\n",
            " 1.         0.97595682 0.95219403 0.93971681 0.89366326 0.89022852\n",
            " 0.90172438 0.88216739 0.88560213 0.84459554 0.82742184 0.81957101\n",
            " 0.85174541 0.78438245 0.79643909 0.74498808 0.75332959 0.75213795\n",
            " 0.74596944 0.79559793 0.85447918 0.86218982 0.8497827  0.83863732\n",
            " 0.78263003 0.81620636 0.81389317 0.81915043 0.77996635 0.78010655\n",
            " 0.81494462 0.84473574 0.87740081 0.89892051 0.89800925 0.90081312\n",
            " 0.90754241 0.9055797  0.87528425 0.88781118 0.89862615 0.90768254\n",
            " 0.91520327 0.92151582 0.92695105 0.93179071]\n",
            "8 day output [[0.93625015]]\n",
            "9 day input [0.78984999 0.77940558 0.80569185 0.82356652 0.8090565  0.81165008\n",
            " 0.83162765 0.84200196 0.83765597 0.80190663 0.80057479 0.80646292\n",
            " 0.82041217 0.82230478 0.79728025 0.76790972 0.7468807  0.74057199\n",
            " 0.75066592 0.74554886 0.7789149  0.77526987 0.75613346 0.75613346\n",
            " 0.76237207 0.78410206 0.76153091 0.78270013 0.78452264 0.78956961\n",
            " 0.78620496 0.79566802 0.81669704 0.83204823 0.83113697 0.84796019\n",
            " 0.86380205 0.88525165 0.88777513 0.88798542 0.88658349 0.91399131\n",
            " 0.92114117 0.91216879 0.92247301 0.92366466 0.94406281 0.96116641\n",
            " 0.92310388 0.93530071 0.96824618 0.97371372 0.99425207 1.\n",
            " 0.97595682 0.95219403 0.93971681 0.89366326 0.89022852 0.90172438\n",
            " 0.88216739 0.88560213 0.84459554 0.82742184 0.81957101 0.85174541\n",
            " 0.78438245 0.79643909 0.74498808 0.75332959 0.75213795 0.74596944\n",
            " 0.79559793 0.85447918 0.86218982 0.8497827  0.83863732 0.78263003\n",
            " 0.81620636 0.81389317 0.81915043 0.77996635 0.78010655 0.81494462\n",
            " 0.84473574 0.87740081 0.89892051 0.89800925 0.90081312 0.90754241\n",
            " 0.9055797  0.87528425 0.88781118 0.89862615 0.90768254 0.91520327\n",
            " 0.92151582 0.92695105 0.93179071 0.93625015]\n",
            "9 day output [[0.9404785]]\n",
            "10 day input [0.77940558 0.80569185 0.82356652 0.8090565  0.81165008 0.83162765\n",
            " 0.84200196 0.83765597 0.80190663 0.80057479 0.80646292 0.82041217\n",
            " 0.82230478 0.79728025 0.76790972 0.7468807  0.74057199 0.75066592\n",
            " 0.74554886 0.7789149  0.77526987 0.75613346 0.75613346 0.76237207\n",
            " 0.78410206 0.76153091 0.78270013 0.78452264 0.78956961 0.78620496\n",
            " 0.79566802 0.81669704 0.83204823 0.83113697 0.84796019 0.86380205\n",
            " 0.88525165 0.88777513 0.88798542 0.88658349 0.91399131 0.92114117\n",
            " 0.91216879 0.92247301 0.92366466 0.94406281 0.96116641 0.92310388\n",
            " 0.93530071 0.96824618 0.97371372 0.99425207 1.         0.97595682\n",
            " 0.95219403 0.93971681 0.89366326 0.89022852 0.90172438 0.88216739\n",
            " 0.88560213 0.84459554 0.82742184 0.81957101 0.85174541 0.78438245\n",
            " 0.79643909 0.74498808 0.75332959 0.75213795 0.74596944 0.79559793\n",
            " 0.85447918 0.86218982 0.8497827  0.83863732 0.78263003 0.81620636\n",
            " 0.81389317 0.81915043 0.77996635 0.78010655 0.81494462 0.84473574\n",
            " 0.87740081 0.89892051 0.89800925 0.90081312 0.90754241 0.9055797\n",
            " 0.87528425 0.88781118 0.89862615 0.90768254 0.91520327 0.92151582\n",
            " 0.92695105 0.93179071 0.93625015 0.9404785 ]\n",
            "10 day output [[0.94456893]]\n",
            "11 day input [0.80569185 0.82356652 0.8090565  0.81165008 0.83162765 0.84200196\n",
            " 0.83765597 0.80190663 0.80057479 0.80646292 0.82041217 0.82230478\n",
            " 0.79728025 0.76790972 0.7468807  0.74057199 0.75066592 0.74554886\n",
            " 0.7789149  0.77526987 0.75613346 0.75613346 0.76237207 0.78410206\n",
            " 0.76153091 0.78270013 0.78452264 0.78956961 0.78620496 0.79566802\n",
            " 0.81669704 0.83204823 0.83113697 0.84796019 0.86380205 0.88525165\n",
            " 0.88777513 0.88798542 0.88658349 0.91399131 0.92114117 0.91216879\n",
            " 0.92247301 0.92366466 0.94406281 0.96116641 0.92310388 0.93530071\n",
            " 0.96824618 0.97371372 0.99425207 1.         0.97595682 0.95219403\n",
            " 0.93971681 0.89366326 0.89022852 0.90172438 0.88216739 0.88560213\n",
            " 0.84459554 0.82742184 0.81957101 0.85174541 0.78438245 0.79643909\n",
            " 0.74498808 0.75332959 0.75213795 0.74596944 0.79559793 0.85447918\n",
            " 0.86218982 0.8497827  0.83863732 0.78263003 0.81620636 0.81389317\n",
            " 0.81915043 0.77996635 0.78010655 0.81494462 0.84473574 0.87740081\n",
            " 0.89892051 0.89800925 0.90081312 0.90754241 0.9055797  0.87528425\n",
            " 0.88781118 0.89862615 0.90768254 0.91520327 0.92151582 0.92695105\n",
            " 0.93179071 0.93625015 0.9404785  0.94456893]\n",
            "11 day output [[0.9485748]]\n",
            "12 day input [0.82356652 0.8090565  0.81165008 0.83162765 0.84200196 0.83765597\n",
            " 0.80190663 0.80057479 0.80646292 0.82041217 0.82230478 0.79728025\n",
            " 0.76790972 0.7468807  0.74057199 0.75066592 0.74554886 0.7789149\n",
            " 0.77526987 0.75613346 0.75613346 0.76237207 0.78410206 0.76153091\n",
            " 0.78270013 0.78452264 0.78956961 0.78620496 0.79566802 0.81669704\n",
            " 0.83204823 0.83113697 0.84796019 0.86380205 0.88525165 0.88777513\n",
            " 0.88798542 0.88658349 0.91399131 0.92114117 0.91216879 0.92247301\n",
            " 0.92366466 0.94406281 0.96116641 0.92310388 0.93530071 0.96824618\n",
            " 0.97371372 0.99425207 1.         0.97595682 0.95219403 0.93971681\n",
            " 0.89366326 0.89022852 0.90172438 0.88216739 0.88560213 0.84459554\n",
            " 0.82742184 0.81957101 0.85174541 0.78438245 0.79643909 0.74498808\n",
            " 0.75332959 0.75213795 0.74596944 0.79559793 0.85447918 0.86218982\n",
            " 0.8497827  0.83863732 0.78263003 0.81620636 0.81389317 0.81915043\n",
            " 0.77996635 0.78010655 0.81494462 0.84473574 0.87740081 0.89892051\n",
            " 0.89800925 0.90081312 0.90754241 0.9055797  0.87528425 0.88781118\n",
            " 0.89862615 0.90768254 0.91520327 0.92151582 0.92695105 0.93179071\n",
            " 0.93625015 0.9404785  0.94456893 0.94857478]\n",
            "12 day output [[0.95252085]]\n",
            "13 day input [0.8090565  0.81165008 0.83162765 0.84200196 0.83765597 0.80190663\n",
            " 0.80057479 0.80646292 0.82041217 0.82230478 0.79728025 0.76790972\n",
            " 0.7468807  0.74057199 0.75066592 0.74554886 0.7789149  0.77526987\n",
            " 0.75613346 0.75613346 0.76237207 0.78410206 0.76153091 0.78270013\n",
            " 0.78452264 0.78956961 0.78620496 0.79566802 0.81669704 0.83204823\n",
            " 0.83113697 0.84796019 0.86380205 0.88525165 0.88777513 0.88798542\n",
            " 0.88658349 0.91399131 0.92114117 0.91216879 0.92247301 0.92366466\n",
            " 0.94406281 0.96116641 0.92310388 0.93530071 0.96824618 0.97371372\n",
            " 0.99425207 1.         0.97595682 0.95219403 0.93971681 0.89366326\n",
            " 0.89022852 0.90172438 0.88216739 0.88560213 0.84459554 0.82742184\n",
            " 0.81957101 0.85174541 0.78438245 0.79643909 0.74498808 0.75332959\n",
            " 0.75213795 0.74596944 0.79559793 0.85447918 0.86218982 0.8497827\n",
            " 0.83863732 0.78263003 0.81620636 0.81389317 0.81915043 0.77996635\n",
            " 0.78010655 0.81494462 0.84473574 0.87740081 0.89892051 0.89800925\n",
            " 0.90081312 0.90754241 0.9055797  0.87528425 0.88781118 0.89862615\n",
            " 0.90768254 0.91520327 0.92151582 0.92695105 0.93179071 0.93625015\n",
            " 0.9404785  0.94456893 0.94857478 0.95252085]\n",
            "13 day output [[0.9564155]]\n",
            "14 day input [0.81165008 0.83162765 0.84200196 0.83765597 0.80190663 0.80057479\n",
            " 0.80646292 0.82041217 0.82230478 0.79728025 0.76790972 0.7468807\n",
            " 0.74057199 0.75066592 0.74554886 0.7789149  0.77526987 0.75613346\n",
            " 0.75613346 0.76237207 0.78410206 0.76153091 0.78270013 0.78452264\n",
            " 0.78956961 0.78620496 0.79566802 0.81669704 0.83204823 0.83113697\n",
            " 0.84796019 0.86380205 0.88525165 0.88777513 0.88798542 0.88658349\n",
            " 0.91399131 0.92114117 0.91216879 0.92247301 0.92366466 0.94406281\n",
            " 0.96116641 0.92310388 0.93530071 0.96824618 0.97371372 0.99425207\n",
            " 1.         0.97595682 0.95219403 0.93971681 0.89366326 0.89022852\n",
            " 0.90172438 0.88216739 0.88560213 0.84459554 0.82742184 0.81957101\n",
            " 0.85174541 0.78438245 0.79643909 0.74498808 0.75332959 0.75213795\n",
            " 0.74596944 0.79559793 0.85447918 0.86218982 0.8497827  0.83863732\n",
            " 0.78263003 0.81620636 0.81389317 0.81915043 0.77996635 0.78010655\n",
            " 0.81494462 0.84473574 0.87740081 0.89892051 0.89800925 0.90081312\n",
            " 0.90754241 0.9055797  0.87528425 0.88781118 0.89862615 0.90768254\n",
            " 0.91520327 0.92151582 0.92695105 0.93179071 0.93625015 0.9404785\n",
            " 0.94456893 0.94857478 0.95252085 0.95641547]\n",
            "14 day output [[0.9602587]]\n",
            "15 day input [0.83162765 0.84200196 0.83765597 0.80190663 0.80057479 0.80646292\n",
            " 0.82041217 0.82230478 0.79728025 0.76790972 0.7468807  0.74057199\n",
            " 0.75066592 0.74554886 0.7789149  0.77526987 0.75613346 0.75613346\n",
            " 0.76237207 0.78410206 0.76153091 0.78270013 0.78452264 0.78956961\n",
            " 0.78620496 0.79566802 0.81669704 0.83204823 0.83113697 0.84796019\n",
            " 0.86380205 0.88525165 0.88777513 0.88798542 0.88658349 0.91399131\n",
            " 0.92114117 0.91216879 0.92247301 0.92366466 0.94406281 0.96116641\n",
            " 0.92310388 0.93530071 0.96824618 0.97371372 0.99425207 1.\n",
            " 0.97595682 0.95219403 0.93971681 0.89366326 0.89022852 0.90172438\n",
            " 0.88216739 0.88560213 0.84459554 0.82742184 0.81957101 0.85174541\n",
            " 0.78438245 0.79643909 0.74498808 0.75332959 0.75213795 0.74596944\n",
            " 0.79559793 0.85447918 0.86218982 0.8497827  0.83863732 0.78263003\n",
            " 0.81620636 0.81389317 0.81915043 0.77996635 0.78010655 0.81494462\n",
            " 0.84473574 0.87740081 0.89892051 0.89800925 0.90081312 0.90754241\n",
            " 0.9055797  0.87528425 0.88781118 0.89862615 0.90768254 0.91520327\n",
            " 0.92151582 0.92695105 0.93179071 0.93625015 0.9404785  0.94456893\n",
            " 0.94857478 0.95252085 0.95641547 0.96025872]\n",
            "15 day output [[0.96404606]]\n",
            "16 day input [0.84200196 0.83765597 0.80190663 0.80057479 0.80646292 0.82041217\n",
            " 0.82230478 0.79728025 0.76790972 0.7468807  0.74057199 0.75066592\n",
            " 0.74554886 0.7789149  0.77526987 0.75613346 0.75613346 0.76237207\n",
            " 0.78410206 0.76153091 0.78270013 0.78452264 0.78956961 0.78620496\n",
            " 0.79566802 0.81669704 0.83204823 0.83113697 0.84796019 0.86380205\n",
            " 0.88525165 0.88777513 0.88798542 0.88658349 0.91399131 0.92114117\n",
            " 0.91216879 0.92247301 0.92366466 0.94406281 0.96116641 0.92310388\n",
            " 0.93530071 0.96824618 0.97371372 0.99425207 1.         0.97595682\n",
            " 0.95219403 0.93971681 0.89366326 0.89022852 0.90172438 0.88216739\n",
            " 0.88560213 0.84459554 0.82742184 0.81957101 0.85174541 0.78438245\n",
            " 0.79643909 0.74498808 0.75332959 0.75213795 0.74596944 0.79559793\n",
            " 0.85447918 0.86218982 0.8497827  0.83863732 0.78263003 0.81620636\n",
            " 0.81389317 0.81915043 0.77996635 0.78010655 0.81494462 0.84473574\n",
            " 0.87740081 0.89892051 0.89800925 0.90081312 0.90754241 0.9055797\n",
            " 0.87528425 0.88781118 0.89862615 0.90768254 0.91520327 0.92151582\n",
            " 0.92695105 0.93179071 0.93625015 0.9404785  0.94456893 0.94857478\n",
            " 0.95252085 0.95641547 0.96025872 0.96404606]\n",
            "16 day output [[0.9677742]]\n",
            "17 day input [0.83765597 0.80190663 0.80057479 0.80646292 0.82041217 0.82230478\n",
            " 0.79728025 0.76790972 0.7468807  0.74057199 0.75066592 0.74554886\n",
            " 0.7789149  0.77526987 0.75613346 0.75613346 0.76237207 0.78410206\n",
            " 0.76153091 0.78270013 0.78452264 0.78956961 0.78620496 0.79566802\n",
            " 0.81669704 0.83204823 0.83113697 0.84796019 0.86380205 0.88525165\n",
            " 0.88777513 0.88798542 0.88658349 0.91399131 0.92114117 0.91216879\n",
            " 0.92247301 0.92366466 0.94406281 0.96116641 0.92310388 0.93530071\n",
            " 0.96824618 0.97371372 0.99425207 1.         0.97595682 0.95219403\n",
            " 0.93971681 0.89366326 0.89022852 0.90172438 0.88216739 0.88560213\n",
            " 0.84459554 0.82742184 0.81957101 0.85174541 0.78438245 0.79643909\n",
            " 0.74498808 0.75332959 0.75213795 0.74596944 0.79559793 0.85447918\n",
            " 0.86218982 0.8497827  0.83863732 0.78263003 0.81620636 0.81389317\n",
            " 0.81915043 0.77996635 0.78010655 0.81494462 0.84473574 0.87740081\n",
            " 0.89892051 0.89800925 0.90081312 0.90754241 0.9055797  0.87528425\n",
            " 0.88781118 0.89862615 0.90768254 0.91520327 0.92151582 0.92695105\n",
            " 0.93179071 0.93625015 0.9404785  0.94456893 0.94857478 0.95252085\n",
            " 0.95641547 0.96025872 0.96404606 0.96777421]\n",
            "17 day output [[0.9714395]]\n",
            "18 day input [0.80190663 0.80057479 0.80646292 0.82041217 0.82230478 0.79728025\n",
            " 0.76790972 0.7468807  0.74057199 0.75066592 0.74554886 0.7789149\n",
            " 0.77526987 0.75613346 0.75613346 0.76237207 0.78410206 0.76153091\n",
            " 0.78270013 0.78452264 0.78956961 0.78620496 0.79566802 0.81669704\n",
            " 0.83204823 0.83113697 0.84796019 0.86380205 0.88525165 0.88777513\n",
            " 0.88798542 0.88658349 0.91399131 0.92114117 0.91216879 0.92247301\n",
            " 0.92366466 0.94406281 0.96116641 0.92310388 0.93530071 0.96824618\n",
            " 0.97371372 0.99425207 1.         0.97595682 0.95219403 0.93971681\n",
            " 0.89366326 0.89022852 0.90172438 0.88216739 0.88560213 0.84459554\n",
            " 0.82742184 0.81957101 0.85174541 0.78438245 0.79643909 0.74498808\n",
            " 0.75332959 0.75213795 0.74596944 0.79559793 0.85447918 0.86218982\n",
            " 0.8497827  0.83863732 0.78263003 0.81620636 0.81389317 0.81915043\n",
            " 0.77996635 0.78010655 0.81494462 0.84473574 0.87740081 0.89892051\n",
            " 0.89800925 0.90081312 0.90754241 0.9055797  0.87528425 0.88781118\n",
            " 0.89862615 0.90768254 0.91520327 0.92151582 0.92695105 0.93179071\n",
            " 0.93625015 0.9404785  0.94456893 0.94857478 0.95252085 0.95641547\n",
            " 0.96025872 0.96404606 0.96777421 0.97143948]\n",
            "18 day output [[0.97504145]]\n",
            "19 day input [0.80057479 0.80646292 0.82041217 0.82230478 0.79728025 0.76790972\n",
            " 0.7468807  0.74057199 0.75066592 0.74554886 0.7789149  0.77526987\n",
            " 0.75613346 0.75613346 0.76237207 0.78410206 0.76153091 0.78270013\n",
            " 0.78452264 0.78956961 0.78620496 0.79566802 0.81669704 0.83204823\n",
            " 0.83113697 0.84796019 0.86380205 0.88525165 0.88777513 0.88798542\n",
            " 0.88658349 0.91399131 0.92114117 0.91216879 0.92247301 0.92366466\n",
            " 0.94406281 0.96116641 0.92310388 0.93530071 0.96824618 0.97371372\n",
            " 0.99425207 1.         0.97595682 0.95219403 0.93971681 0.89366326\n",
            " 0.89022852 0.90172438 0.88216739 0.88560213 0.84459554 0.82742184\n",
            " 0.81957101 0.85174541 0.78438245 0.79643909 0.74498808 0.75332959\n",
            " 0.75213795 0.74596944 0.79559793 0.85447918 0.86218982 0.8497827\n",
            " 0.83863732 0.78263003 0.81620636 0.81389317 0.81915043 0.77996635\n",
            " 0.78010655 0.81494462 0.84473574 0.87740081 0.89892051 0.89800925\n",
            " 0.90081312 0.90754241 0.9055797  0.87528425 0.88781118 0.89862615\n",
            " 0.90768254 0.91520327 0.92151582 0.92695105 0.93179071 0.93625015\n",
            " 0.9404785  0.94456893 0.94857478 0.95252085 0.95641547 0.96025872\n",
            " 0.96404606 0.96777421 0.97143948 0.97504145]\n",
            "19 day output [[0.9785799]]\n",
            "20 day input [0.80646292 0.82041217 0.82230478 0.79728025 0.76790972 0.7468807\n",
            " 0.74057199 0.75066592 0.74554886 0.7789149  0.77526987 0.75613346\n",
            " 0.75613346 0.76237207 0.78410206 0.76153091 0.78270013 0.78452264\n",
            " 0.78956961 0.78620496 0.79566802 0.81669704 0.83204823 0.83113697\n",
            " 0.84796019 0.86380205 0.88525165 0.88777513 0.88798542 0.88658349\n",
            " 0.91399131 0.92114117 0.91216879 0.92247301 0.92366466 0.94406281\n",
            " 0.96116641 0.92310388 0.93530071 0.96824618 0.97371372 0.99425207\n",
            " 1.         0.97595682 0.95219403 0.93971681 0.89366326 0.89022852\n",
            " 0.90172438 0.88216739 0.88560213 0.84459554 0.82742184 0.81957101\n",
            " 0.85174541 0.78438245 0.79643909 0.74498808 0.75332959 0.75213795\n",
            " 0.74596944 0.79559793 0.85447918 0.86218982 0.8497827  0.83863732\n",
            " 0.78263003 0.81620636 0.81389317 0.81915043 0.77996635 0.78010655\n",
            " 0.81494462 0.84473574 0.87740081 0.89892051 0.89800925 0.90081312\n",
            " 0.90754241 0.9055797  0.87528425 0.88781118 0.89862615 0.90768254\n",
            " 0.91520327 0.92151582 0.92695105 0.93179071 0.93625015 0.9404785\n",
            " 0.94456893 0.94857478 0.95252085 0.95641547 0.96025872 0.96404606\n",
            " 0.96777421 0.97143948 0.97504145 0.97857988]\n",
            "20 day output [[0.98205715]]\n",
            "21 day input [0.82041217 0.82230478 0.79728025 0.76790972 0.7468807  0.74057199\n",
            " 0.75066592 0.74554886 0.7789149  0.77526987 0.75613346 0.75613346\n",
            " 0.76237207 0.78410206 0.76153091 0.78270013 0.78452264 0.78956961\n",
            " 0.78620496 0.79566802 0.81669704 0.83204823 0.83113697 0.84796019\n",
            " 0.86380205 0.88525165 0.88777513 0.88798542 0.88658349 0.91399131\n",
            " 0.92114117 0.91216879 0.92247301 0.92366466 0.94406281 0.96116641\n",
            " 0.92310388 0.93530071 0.96824618 0.97371372 0.99425207 1.\n",
            " 0.97595682 0.95219403 0.93971681 0.89366326 0.89022852 0.90172438\n",
            " 0.88216739 0.88560213 0.84459554 0.82742184 0.81957101 0.85174541\n",
            " 0.78438245 0.79643909 0.74498808 0.75332959 0.75213795 0.74596944\n",
            " 0.79559793 0.85447918 0.86218982 0.8497827  0.83863732 0.78263003\n",
            " 0.81620636 0.81389317 0.81915043 0.77996635 0.78010655 0.81494462\n",
            " 0.84473574 0.87740081 0.89892051 0.89800925 0.90081312 0.90754241\n",
            " 0.9055797  0.87528425 0.88781118 0.89862615 0.90768254 0.91520327\n",
            " 0.92151582 0.92695105 0.93179071 0.93625015 0.9404785  0.94456893\n",
            " 0.94857478 0.95252085 0.95641547 0.96025872 0.96404606 0.96777421\n",
            " 0.97143948 0.97504145 0.97857988 0.98205715]\n",
            "21 day output [[0.9854757]]\n",
            "22 day input [0.82230478 0.79728025 0.76790972 0.7468807  0.74057199 0.75066592\n",
            " 0.74554886 0.7789149  0.77526987 0.75613346 0.75613346 0.76237207\n",
            " 0.78410206 0.76153091 0.78270013 0.78452264 0.78956961 0.78620496\n",
            " 0.79566802 0.81669704 0.83204823 0.83113697 0.84796019 0.86380205\n",
            " 0.88525165 0.88777513 0.88798542 0.88658349 0.91399131 0.92114117\n",
            " 0.91216879 0.92247301 0.92366466 0.94406281 0.96116641 0.92310388\n",
            " 0.93530071 0.96824618 0.97371372 0.99425207 1.         0.97595682\n",
            " 0.95219403 0.93971681 0.89366326 0.89022852 0.90172438 0.88216739\n",
            " 0.88560213 0.84459554 0.82742184 0.81957101 0.85174541 0.78438245\n",
            " 0.79643909 0.74498808 0.75332959 0.75213795 0.74596944 0.79559793\n",
            " 0.85447918 0.86218982 0.8497827  0.83863732 0.78263003 0.81620636\n",
            " 0.81389317 0.81915043 0.77996635 0.78010655 0.81494462 0.84473574\n",
            " 0.87740081 0.89892051 0.89800925 0.90081312 0.90754241 0.9055797\n",
            " 0.87528425 0.88781118 0.89862615 0.90768254 0.91520327 0.92151582\n",
            " 0.92695105 0.93179071 0.93625015 0.9404785  0.94456893 0.94857478\n",
            " 0.95252085 0.95641547 0.96025872 0.96404606 0.96777421 0.97143948\n",
            " 0.97504145 0.97857988 0.98205715 0.98547572]\n",
            "22 day output [[0.9888386]]\n",
            "23 day input [0.79728025 0.76790972 0.7468807  0.74057199 0.75066592 0.74554886\n",
            " 0.7789149  0.77526987 0.75613346 0.75613346 0.76237207 0.78410206\n",
            " 0.76153091 0.78270013 0.78452264 0.78956961 0.78620496 0.79566802\n",
            " 0.81669704 0.83204823 0.83113697 0.84796019 0.86380205 0.88525165\n",
            " 0.88777513 0.88798542 0.88658349 0.91399131 0.92114117 0.91216879\n",
            " 0.92247301 0.92366466 0.94406281 0.96116641 0.92310388 0.93530071\n",
            " 0.96824618 0.97371372 0.99425207 1.         0.97595682 0.95219403\n",
            " 0.93971681 0.89366326 0.89022852 0.90172438 0.88216739 0.88560213\n",
            " 0.84459554 0.82742184 0.81957101 0.85174541 0.78438245 0.79643909\n",
            " 0.74498808 0.75332959 0.75213795 0.74596944 0.79559793 0.85447918\n",
            " 0.86218982 0.8497827  0.83863732 0.78263003 0.81620636 0.81389317\n",
            " 0.81915043 0.77996635 0.78010655 0.81494462 0.84473574 0.87740081\n",
            " 0.89892051 0.89800925 0.90081312 0.90754241 0.9055797  0.87528425\n",
            " 0.88781118 0.89862615 0.90768254 0.91520327 0.92151582 0.92695105\n",
            " 0.93179071 0.93625015 0.9404785  0.94456893 0.94857478 0.95252085\n",
            " 0.95641547 0.96025872 0.96404606 0.96777421 0.97143948 0.97504145\n",
            " 0.97857988 0.98205715 0.98547572 0.98883861]\n",
            "23 day output [[0.99214965]]\n",
            "24 day input [0.76790972 0.7468807  0.74057199 0.75066592 0.74554886 0.7789149\n",
            " 0.77526987 0.75613346 0.75613346 0.76237207 0.78410206 0.76153091\n",
            " 0.78270013 0.78452264 0.78956961 0.78620496 0.79566802 0.81669704\n",
            " 0.83204823 0.83113697 0.84796019 0.86380205 0.88525165 0.88777513\n",
            " 0.88798542 0.88658349 0.91399131 0.92114117 0.91216879 0.92247301\n",
            " 0.92366466 0.94406281 0.96116641 0.92310388 0.93530071 0.96824618\n",
            " 0.97371372 0.99425207 1.         0.97595682 0.95219403 0.93971681\n",
            " 0.89366326 0.89022852 0.90172438 0.88216739 0.88560213 0.84459554\n",
            " 0.82742184 0.81957101 0.85174541 0.78438245 0.79643909 0.74498808\n",
            " 0.75332959 0.75213795 0.74596944 0.79559793 0.85447918 0.86218982\n",
            " 0.8497827  0.83863732 0.78263003 0.81620636 0.81389317 0.81915043\n",
            " 0.77996635 0.78010655 0.81494462 0.84473574 0.87740081 0.89892051\n",
            " 0.89800925 0.90081312 0.90754241 0.9055797  0.87528425 0.88781118\n",
            " 0.89862615 0.90768254 0.91520327 0.92151582 0.92695105 0.93179071\n",
            " 0.93625015 0.9404785  0.94456893 0.94857478 0.95252085 0.95641547\n",
            " 0.96025872 0.96404606 0.96777421 0.97143948 0.97504145 0.97857988\n",
            " 0.98205715 0.98547572 0.98883861 0.99214965]\n",
            "24 day output [[0.995412]]\n",
            "25 day input [0.7468807  0.74057199 0.75066592 0.74554886 0.7789149  0.77526987\n",
            " 0.75613346 0.75613346 0.76237207 0.78410206 0.76153091 0.78270013\n",
            " 0.78452264 0.78956961 0.78620496 0.79566802 0.81669704 0.83204823\n",
            " 0.83113697 0.84796019 0.86380205 0.88525165 0.88777513 0.88798542\n",
            " 0.88658349 0.91399131 0.92114117 0.91216879 0.92247301 0.92366466\n",
            " 0.94406281 0.96116641 0.92310388 0.93530071 0.96824618 0.97371372\n",
            " 0.99425207 1.         0.97595682 0.95219403 0.93971681 0.89366326\n",
            " 0.89022852 0.90172438 0.88216739 0.88560213 0.84459554 0.82742184\n",
            " 0.81957101 0.85174541 0.78438245 0.79643909 0.74498808 0.75332959\n",
            " 0.75213795 0.74596944 0.79559793 0.85447918 0.86218982 0.8497827\n",
            " 0.83863732 0.78263003 0.81620636 0.81389317 0.81915043 0.77996635\n",
            " 0.78010655 0.81494462 0.84473574 0.87740081 0.89892051 0.89800925\n",
            " 0.90081312 0.90754241 0.9055797  0.87528425 0.88781118 0.89862615\n",
            " 0.90768254 0.91520327 0.92151582 0.92695105 0.93179071 0.93625015\n",
            " 0.9404785  0.94456893 0.94857478 0.95252085 0.95641547 0.96025872\n",
            " 0.96404606 0.96777421 0.97143948 0.97504145 0.97857988 0.98205715\n",
            " 0.98547572 0.98883861 0.99214965 0.99541199]\n",
            "25 day output [[0.9986289]]\n",
            "26 day input [0.74057199 0.75066592 0.74554886 0.7789149  0.77526987 0.75613346\n",
            " 0.75613346 0.76237207 0.78410206 0.76153091 0.78270013 0.78452264\n",
            " 0.78956961 0.78620496 0.79566802 0.81669704 0.83204823 0.83113697\n",
            " 0.84796019 0.86380205 0.88525165 0.88777513 0.88798542 0.88658349\n",
            " 0.91399131 0.92114117 0.91216879 0.92247301 0.92366466 0.94406281\n",
            " 0.96116641 0.92310388 0.93530071 0.96824618 0.97371372 0.99425207\n",
            " 1.         0.97595682 0.95219403 0.93971681 0.89366326 0.89022852\n",
            " 0.90172438 0.88216739 0.88560213 0.84459554 0.82742184 0.81957101\n",
            " 0.85174541 0.78438245 0.79643909 0.74498808 0.75332959 0.75213795\n",
            " 0.74596944 0.79559793 0.85447918 0.86218982 0.8497827  0.83863732\n",
            " 0.78263003 0.81620636 0.81389317 0.81915043 0.77996635 0.78010655\n",
            " 0.81494462 0.84473574 0.87740081 0.89892051 0.89800925 0.90081312\n",
            " 0.90754241 0.9055797  0.87528425 0.88781118 0.89862615 0.90768254\n",
            " 0.91520327 0.92151582 0.92695105 0.93179071 0.93625015 0.9404785\n",
            " 0.94456893 0.94857478 0.95252085 0.95641547 0.96025872 0.96404606\n",
            " 0.96777421 0.97143948 0.97504145 0.97857988 0.98205715 0.98547572\n",
            " 0.98883861 0.99214965 0.99541199 0.99862891]\n",
            "26 day output [[1.0018035]]\n",
            "27 day input [0.75066592 0.74554886 0.7789149  0.77526987 0.75613346 0.75613346\n",
            " 0.76237207 0.78410206 0.76153091 0.78270013 0.78452264 0.78956961\n",
            " 0.78620496 0.79566802 0.81669704 0.83204823 0.83113697 0.84796019\n",
            " 0.86380205 0.88525165 0.88777513 0.88798542 0.88658349 0.91399131\n",
            " 0.92114117 0.91216879 0.92247301 0.92366466 0.94406281 0.96116641\n",
            " 0.92310388 0.93530071 0.96824618 0.97371372 0.99425207 1.\n",
            " 0.97595682 0.95219403 0.93971681 0.89366326 0.89022852 0.90172438\n",
            " 0.88216739 0.88560213 0.84459554 0.82742184 0.81957101 0.85174541\n",
            " 0.78438245 0.79643909 0.74498808 0.75332959 0.75213795 0.74596944\n",
            " 0.79559793 0.85447918 0.86218982 0.8497827  0.83863732 0.78263003\n",
            " 0.81620636 0.81389317 0.81915043 0.77996635 0.78010655 0.81494462\n",
            " 0.84473574 0.87740081 0.89892051 0.89800925 0.90081312 0.90754241\n",
            " 0.9055797  0.87528425 0.88781118 0.89862615 0.90768254 0.91520327\n",
            " 0.92151582 0.92695105 0.93179071 0.93625015 0.9404785  0.94456893\n",
            " 0.94857478 0.95252085 0.95641547 0.96025872 0.96404606 0.96777421\n",
            " 0.97143948 0.97504145 0.97857988 0.98205715 0.98547572 0.98883861\n",
            " 0.99214965 0.99541199 0.99862891 1.00180352]\n",
            "27 day output [[1.0049388]]\n",
            "28 day input [0.74554886 0.7789149  0.77526987 0.75613346 0.75613346 0.76237207\n",
            " 0.78410206 0.76153091 0.78270013 0.78452264 0.78956961 0.78620496\n",
            " 0.79566802 0.81669704 0.83204823 0.83113697 0.84796019 0.86380205\n",
            " 0.88525165 0.88777513 0.88798542 0.88658349 0.91399131 0.92114117\n",
            " 0.91216879 0.92247301 0.92366466 0.94406281 0.96116641 0.92310388\n",
            " 0.93530071 0.96824618 0.97371372 0.99425207 1.         0.97595682\n",
            " 0.95219403 0.93971681 0.89366326 0.89022852 0.90172438 0.88216739\n",
            " 0.88560213 0.84459554 0.82742184 0.81957101 0.85174541 0.78438245\n",
            " 0.79643909 0.74498808 0.75332959 0.75213795 0.74596944 0.79559793\n",
            " 0.85447918 0.86218982 0.8497827  0.83863732 0.78263003 0.81620636\n",
            " 0.81389317 0.81915043 0.77996635 0.78010655 0.81494462 0.84473574\n",
            " 0.87740081 0.89892051 0.89800925 0.90081312 0.90754241 0.9055797\n",
            " 0.87528425 0.88781118 0.89862615 0.90768254 0.91520327 0.92151582\n",
            " 0.92695105 0.93179071 0.93625015 0.9404785  0.94456893 0.94857478\n",
            " 0.95252085 0.95641547 0.96025872 0.96404606 0.96777421 0.97143948\n",
            " 0.97504145 0.97857988 0.98205715 0.98547572 0.98883861 0.99214965\n",
            " 0.99541199 0.99862891 1.00180352 1.00493884]\n",
            "28 day output [[1.0080374]]\n",
            "29 day input [0.7789149  0.77526987 0.75613346 0.75613346 0.76237207 0.78410206\n",
            " 0.76153091 0.78270013 0.78452264 0.78956961 0.78620496 0.79566802\n",
            " 0.81669704 0.83204823 0.83113697 0.84796019 0.86380205 0.88525165\n",
            " 0.88777513 0.88798542 0.88658349 0.91399131 0.92114117 0.91216879\n",
            " 0.92247301 0.92366466 0.94406281 0.96116641 0.92310388 0.93530071\n",
            " 0.96824618 0.97371372 0.99425207 1.         0.97595682 0.95219403\n",
            " 0.93971681 0.89366326 0.89022852 0.90172438 0.88216739 0.88560213\n",
            " 0.84459554 0.82742184 0.81957101 0.85174541 0.78438245 0.79643909\n",
            " 0.74498808 0.75332959 0.75213795 0.74596944 0.79559793 0.85447918\n",
            " 0.86218982 0.8497827  0.83863732 0.78263003 0.81620636 0.81389317\n",
            " 0.81915043 0.77996635 0.78010655 0.81494462 0.84473574 0.87740081\n",
            " 0.89892051 0.89800925 0.90081312 0.90754241 0.9055797  0.87528425\n",
            " 0.88781118 0.89862615 0.90768254 0.91520327 0.92151582 0.92695105\n",
            " 0.93179071 0.93625015 0.9404785  0.94456893 0.94857478 0.95252085\n",
            " 0.95641547 0.96025872 0.96404606 0.96777421 0.97143948 0.97504145\n",
            " 0.97857988 0.98205715 0.98547572 0.98883861 0.99214965 0.99541199\n",
            " 0.99862891 1.00180352 1.00493884 1.00803745]\n",
            "29 day output [[1.0111014]]\n",
            "[[0.8752842545509338], [0.8878111839294434], [0.8986261487007141], [0.9076825380325317], [0.9152032732963562], [0.9215158224105835], [0.9269510507583618], [0.9317907094955444], [0.9362501502037048], [0.940478503704071], [0.944568932056427], [0.9485747814178467], [0.9525208473205566], [0.9564154744148254], [0.9602587223052979], [0.964046061038971], [0.9677742123603821], [0.9714394807815552], [0.9750414490699768], [0.9785798788070679], [0.9820571541786194], [0.9854757189750671], [0.9888386130332947], [0.9921496510505676], [0.9954119920730591], [0.9986289143562317], [1.0018035173416138], [1.0049388408660889], [1.0080374479293823], [1.0111013650894165]]\n"
          ]
        }
      ],
      "source": [
        "# demonstrate prediction for next 10 days\n",
        "from numpy import array\n",
        "\n",
        "lst_output=[]\n",
        "n_steps=100\n",
        "i=0\n",
        "while(i<30):\n",
        "\n",
        "    if(len(temp_input)>100):\n",
        "        #print(temp_input)\n",
        "        x_input=np.array(temp_input[1:])\n",
        "        print(\"{} day input {}\".format(i,x_input))\n",
        "        x_input=x_input.reshape(1,-1)\n",
        "        x_input = x_input.reshape((1, n_steps, 1))\n",
        "        #print(x_input)\n",
        "        yhat = model.predict(x_input, verbose=0)\n",
        "        print(\"{} day output {}\".format(i,yhat))\n",
        "        temp_input.extend(yhat[0].tolist())\n",
        "        temp_input=temp_input[1:]\n",
        "        #print(temp_input)\n",
        "        lst_output.extend(yhat.tolist())\n",
        "        i=i+1\n",
        "    else:\n",
        "        x_input = x_input.reshape((1, n_steps,1))\n",
        "        yhat = model.predict(x_input, verbose=0)\n",
        "        print(yhat[0])\n",
        "        temp_input.extend(yhat[0].tolist())\n",
        "        print(len(temp_input))\n",
        "        lst_output.extend(yhat.tolist())\n",
        "        i=i+1\n",
        "\n",
        "\n",
        "print(lst_output)"
      ]
    },
    {
      "cell_type": "code",
      "execution_count": 80,
      "metadata": {
        "id": "Xd0DBY0eaf-A"
      },
      "outputs": [],
      "source": [
        "day_new=np.arange(1,101)\n",
        "day_pred=np.arange(101,131)"
      ]
    },
    {
      "cell_type": "code",
      "execution_count": 81,
      "metadata": {
        "id": "32vlrGSbaf-A"
      },
      "outputs": [],
      "source": [
        "import matplotlib.pyplot as plt"
      ]
    },
    {
      "cell_type": "code",
      "execution_count": 82,
      "metadata": {
        "colab": {
          "base_uri": "https://localhost:8080/"
        },
        "id": "t4dRsnQGaf-B",
        "outputId": "732c1981-31e8-44b1-c04d-d018bd41b53e"
      },
      "outputs": [
        {
          "data": {
            "text/plain": [
              "1039"
            ]
          },
          "execution_count": 82,
          "metadata": {},
          "output_type": "execute_result"
        }
      ],
      "source": [
        "len(df1)"
      ]
    },
    {
      "cell_type": "code",
      "execution_count": null,
      "metadata": {
        "id": "o_vrHoqjaf-B"
      },
      "outputs": [],
      "source": []
    },
    {
      "cell_type": "code",
      "execution_count": 84,
      "metadata": {
        "colab": {
          "base_uri": "https://localhost:8080/",
          "height": 447
        },
        "id": "UucU7RZmaf-B",
        "outputId": "abb38017-cc65-48d4-c051-910922cb04a7"
      },
      "outputs": [
        {
          "data": {
            "text/plain": [
              "[<matplotlib.lines.Line2D at 0x789fcf339bd0>]"
            ]
          },
          "execution_count": 84,
          "metadata": {},
          "output_type": "execute_result"
        },
        {
          "data": {
            "image/png": "[encoded data removed]",
            "text/plain": [
              "<Figure size 640x480 with 1 Axes>"
            ]
          },
          "metadata": {},
          "output_type": "display_data"
        }
      ],
      "source": [
        "plt.plot(day_new,scaler.inverse_transform(df1[939:]))\n",
        "plt.plot(day_pred,scaler.inverse_transform(lst_output))"
      ]
    },
    {
      "cell_type": "code",
      "execution_count": 86,
      "metadata": {
        "colab": {
          "base_uri": "https://localhost:8080/",
          "height": 447
        },
        "id": "jonrwsiMaf-C",
        "outputId": "be5534ac-8cec-40d1-f045-36f795312273"
      },
      "outputs": [
        {
          "data": {
            "text/plain": [
              "[<matplotlib.lines.Line2D at 0x789fd5461090>]"
            ]
          },
          "execution_count": 86,
          "metadata": {},
          "output_type": "execute_result"
        },
        {
          "data": {
            "image/png": "[encoded data removed]",
            "text/plain": [
              "<Figure size 640x480 with 1 Axes>"
            ]
          },
          "metadata": {},
          "output_type": "display_data"
        }
      ],
      "source": [
        "df3=df1.tolist()\n",
        "df3.extend(lst_output)\n",
        "plt.plot(df3[1000:])"
      ]
    },
    {
      "cell_type": "code",
      "execution_count": 87,
      "metadata": {
        "id": "PqvNct_Maf-C"
      },
      "outputs": [],
      "source": [
        "df3=scaler.inverse_transform(df3).tolist()"
      ]
    },
    {
      "cell_type": "code",
      "execution_count": 88,
      "metadata": {
        "colab": {
          "base_uri": "https://localhost:8080/",
          "height": 447
        },
        "id": "r-wDV0d_af-D",
        "outputId": "d9f191cf-15c8-4db3-a005-ec251b47cf40"
      },
      "outputs": [
        {
          "data": {
            "text/plain": [
              "[<matplotlib.lines.Line2D at 0x789fd54dcad0>]"
            ]
          },
          "execution_count": 88,
          "metadata": {},
          "output_type": "execute_result"
        },
        {
          "data": {
            "image/png": "[encoded data removed]",
            "text/plain": [
              "<Figure size 640x480 with 1 Axes>"
            ]
          },
          "metadata": {},
          "output_type": "display_data"
        }
      ],
      "source": [
        "plt.plot(df3)"
      ]
    },
    {
      "cell_type": "code",
      "execution_count": null,
      "metadata": {
        "id": "Xf1tLZFHaf-D"
      },
      "outputs": [],
      "source": []
    }
  ],
  "metadata": {
    "colab": {
      "provenance": []
    },
    "kernelspec": {
      "display_name": "Python 3",
      "language": "python",
      "name": "python3"
    },
    "language_info": {
      "codemirror_mode": {
        "name": "ipython",
        "version": 3
      },
      "file_extension": ".py",
      "mimetype": "text/x-python",
      "name": "python",
      "nbconvert_exporter": "python",
      "pygments_lexer": "ipython3",
      "version": "3.6.9"
    }
  },
  "nbformat": 4,
  "nbformat_minor": 0
}
